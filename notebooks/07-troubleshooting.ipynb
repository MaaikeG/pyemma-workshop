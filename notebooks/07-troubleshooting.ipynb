{
 "cells": [
  {
   "cell_type": "markdown",
   "metadata": {},
   "source": [
    "# Markov models: What could go wrong?\n",
    "<img alt=\"FU BERLIN LOGO\" style=\"border-width:0\" src=\"https://www.fu-berlin.de/assets/default2/fu-logo-1x-2e301182ca3c9a45ae34adf6dca8b6ba.png\" title='FU BERLIN.' align=\"right\"/>\n",
    "\n",
    "```\n",
    "# Tim Hempel\n",
    "# Markov Winterschool 2022\n",
    "# Noe Group, FU Berlin\n",
    "```"
   ]
  },
  {
   "cell_type": "code",
   "execution_count": null,
   "metadata": {},
   "outputs": [],
   "source": [
    "import numpy as np\n",
    "import pyemma\n",
    "import deeptime as dt\n",
    "import mdshare\n",
    "import matplotlib.pyplot as plt"
   ]
  },
  {
   "cell_type": "code",
   "execution_count": null,
   "metadata": {},
   "outputs": [],
   "source": [
    "plt.matplotlib.rcParams.update({'font.size': 16})"
   ]
  },
  {
   "cell_type": "markdown",
   "metadata": {},
   "source": [
    "## well-sampled double-well potential"
   ]
  },
  {
   "cell_type": "code",
   "execution_count": null,
   "metadata": {},
   "outputs": [],
   "source": [
    "file = mdshare.fetch('hmm-doublewell-2d-100k.npz', working_directory='data')\n",
    "with np.load(file) as fh:\n",
    "    trjs = [fh['trajectory'][:, 1]]\n"
   ]
  },
  {
   "cell_type": "code",
   "execution_count": null,
   "metadata": {},
   "outputs": [],
   "source": [
    "def implied_timescales_msm(dtrajs, lagtimes):\n",
    "    \"\"\"\n",
    "    Estimate implied timescales based on the largest connected set of Markov states.\n",
    "    \n",
    "    Parameters\n",
    "    ----------\n",
    "    dtrajs: (list of) np.ndarray, dtype int \n",
    "        discrete trajectories or observations\n",
    "    lagtimes: iterable of integers\n",
    "        lag times for model evaluation\n",
    "        \n",
    "    Returns:\n",
    "    -------\n",
    "    deeptime.util.validation.ImpliedTimescales\n",
    "        Object containing implied timescales of estimated MSMs\n",
    "    \"\"\"\n",
    "    \n",
    "    models = []\n",
    "    for lag in lagtimes:\n",
    "        count_model = dt.markov.TransitionCountEstimator(lag, 'sliding').fit_fetch(dtrajs)\n",
    "        msm = dt.markov.msm.MaximumLikelihoodMSM().fit_fetch(count_model.submodel_largest())\n",
    "        \n",
    "        models.append(msm)\n",
    "        \n",
    "    return dt.util.validation.implied_timescales(models)"
   ]
  },
  {
   "cell_type": "code",
   "execution_count": null,
   "metadata": {},
   "outputs": [],
   "source": [
    "fig, ax = plt.subplots(1, 2, figsize=(10, 4))\n",
    "\n",
    "ax[0].hist(np.concatenate(trjs), bins=50, range=(-3, 3), alpha=1, density=True);\n",
    "ax[0].plot(trjs[0][:200], np.linspace(0, 1, 200), color='k', alpha=.7)\n",
    "ax[0].annotate('time', xy=(2.2, .8), xytext=(2.2, .1), rotation=90, \n",
    "            arrowprops=dict(arrowstyle='->'), ha='center',)\n",
    "\n",
    "\n",
    "cl = dt.clustering.RegularSpace(dmin=0.05).fit(np.concatenate(trjs)).fetch_model()\n",
    "dtrajs = [cl.transform(x) for x in trjs]\n",
    "its = implied_timescales_msm(dtrajs, range(1, 11))\n",
    "\n",
    "#its = implied_timescales_msm(dtrajs, lagtimes=range(1, 11))\n",
    "dt.plots.plot_implied_timescales(its, marker='o', ax=ax[1], n_its=2)\n",
    "\n",
    "fig.tight_layout()"
   ]
  },
  {
   "cell_type": "code",
   "execution_count": null,
   "metadata": {},
   "outputs": [],
   "source": [
    "def plot_dw(trjs, hist=False, cl=None, ax=None, no_timeseries=False):\n",
    "    \"\"\"\n",
    "    Plot double well as histogram / time-series overlay\n",
    "    \"\"\"\n",
    "    if ax is None:\n",
    "        fig, ax = plt.subplots(1, 1)\n",
    "    if hist:\n",
    "        ax.hist(trjs[0], bins=30, range=(-2, 2), alpha=.5, density=True);\n",
    "        ax.hist(trjs[1], bins=30, range=(-2, 2), alpha=.5, density=True);\n",
    "        \n",
    "    if not no_timeseries:\n",
    "        ax.annotate('time', xy=(1.8, .9), xytext=(1.8, .1), rotation=90, \n",
    "                    arrowprops=dict(arrowstyle='->'), ha='center',)\n",
    "        if cl is None:\n",
    "            ax.plot(trjs[0], np.linspace(0, 1, trjs[0].shape[0]), color='C0')\n",
    "            ax.plot(trjs[1], np.linspace(0, 1, trjs[1].shape[0]), color='C1')\n",
    "        else:\n",
    "            dtrajs = [cl.transform(x) for x in trjs]\n",
    "            ax.plot(cl.cluster_centers[dtrajs[0], 0], np.linspace(0, 1, dtrajs[0].shape[0]), color='C0')\n",
    "            ax.plot(cl.cluster_centers[dtrajs[1], 0], np.linspace(0, 1, dtrajs[1].shape[0]), color='C1')\n",
    "        \n",
    "    ax.set_xlim(-2, 2)\n",
    "    return ax"
   ]
  },
  {
   "cell_type": "markdown",
   "metadata": {},
   "source": [
    "## different kinds of almost well-sampled double well potentials\n",
    "### 1. irreversibly connected"
   ]
  },
  {
   "cell_type": "code",
   "execution_count": null,
   "metadata": {},
   "outputs": [],
   "source": [
    "file = mdshare.fetch('doublewell_oneway.npy', working_directory='data')\n",
    "trjs = [trj for trj in np.load(file)]"
   ]
  },
  {
   "cell_type": "code",
   "execution_count": null,
   "metadata": {},
   "outputs": [],
   "source": [
    "plot_dw(trjs, cl=cl, hist=True);"
   ]
  },
  {
   "cell_type": "code",
   "execution_count": null,
   "metadata": {},
   "outputs": [],
   "source": [
    "# cl = dt.clustering.RegularSpace(dmin=0.7).fit(np.concatenate(trjs)).fetch_model()\n",
    "cl = dt.clustering.RegularSpace(dmin=0.1).fit(np.concatenate(trjs)).fetch_model()\n",
    "print(cl.n_clusters)"
   ]
  },
  {
   "cell_type": "code",
   "execution_count": null,
   "metadata": {},
   "outputs": [],
   "source": [
    "plot_dw(trjs, cl=cl, hist=True);"
   ]
  },
  {
   "cell_type": "code",
   "execution_count": null,
   "metadata": {},
   "outputs": [],
   "source": [
    "dtrajs = [cl.transform(x) for x in trjs]\n",
    "lagtimes = [1, 10, 100, 200, 300, 500, 800, 1000]\n",
    "\n",
    "its = implied_timescales_msm(dtrajs, lagtimes)\n",
    "\n",
    "ax = dt.plots.plot_implied_timescales(its, marker='o', n_its=2)\n",
    "ax.semilogy()\n",
    "ax.set_ylim(1e1, 3e5);"
   ]
  },
  {
   "cell_type": "code",
   "execution_count": null,
   "metadata": {},
   "outputs": [],
   "source": [
    "c = dt.markov.TransitionCountEstimator(lagtimes[3], \"sliding\").fit(dtrajs).fetch_model()\n",
    "m = dt.markov.msm.MaximumLikelihoodMSM().fit(c.submodel_largest()).fetch_model()\n",
    "\n",
    "ax = plot_dw(trjs, hist=True, cl=cl)\n",
    "ax.set_yticks([])\n",
    "tx = ax.twinx()\n",
    "tx.plot(cl.cluster_centers[m.count_model.state_symbols, 0], m.eigenvectors_right()[:, 1], \n",
    "        'ko:', label='first eigvec')\n",
    "tx.set_ylabel('eigenvector')\n",
    "ax.figure.legend()\n",
    "ax.set_xlim(-2, 2)"
   ]
  },
  {
   "cell_type": "code",
   "execution_count": null,
   "metadata": {},
   "outputs": [],
   "source": [
    "m.count_model.state_symbols"
   ]
  },
  {
   "cell_type": "markdown",
   "metadata": {},
   "source": [
    "### 2. disconnected with crossovers"
   ]
  },
  {
   "cell_type": "code",
   "execution_count": null,
   "metadata": {},
   "outputs": [],
   "source": [
    "file = mdshare.fetch('doublewell_disconnected.npy', working_directory='data')\n",
    "trjs = [trj for trj in np.load(file)]"
   ]
  },
  {
   "cell_type": "code",
   "execution_count": null,
   "metadata": {},
   "outputs": [],
   "source": [
    "plot_dw(trjs, cl=cl, hist=True);"
   ]
  },
  {
   "cell_type": "code",
   "execution_count": null,
   "metadata": {
    "scrolled": true
   },
   "outputs": [],
   "source": [
    "cl = dt.clustering.RegularSpace(dmin=0.7).fit(np.concatenate(trjs)).fetch_model()\n",
    "# cl = dt.clustering.RegularSpace(dmin=0.1).fit(np.concatenate(trjs)).fetch_model()\n",
    "print(cl.n_clusters)"
   ]
  },
  {
   "cell_type": "code",
   "execution_count": null,
   "metadata": {
    "scrolled": true
   },
   "outputs": [],
   "source": [
    "plot_dw(trjs, cl=cl, hist=True);"
   ]
  },
  {
   "cell_type": "code",
   "execution_count": null,
   "metadata": {
    "scrolled": true
   },
   "outputs": [],
   "source": [
    "dtrajs = [cl.transform(x) for x in trjs]\n",
    "lagtimes = [1, 10, 100, 200, 300, 500, 800, 1000]\n",
    "its = implied_timescales_msm(dtrajs, lagtimes)\n",
    "ax = dt.plots.plot_implied_timescales(its, marker='o', n_its=2)\n",
    "ax.semilogy()\n",
    "ax.set_ylim(1e1, 3e5);"
   ]
  },
  {
   "cell_type": "code",
   "execution_count": null,
   "metadata": {},
   "outputs": [],
   "source": [
    "c = dt.markov.TransitionCountEstimator(200, \"sliding\").fit(dtrajs).fetch_model()\n",
    "m = dt.markov.msm.MaximumLikelihoodMSM().fit(c.submodel_largest()).fetch_model()\n",
    "pcca = m.pcca(2)\n",
    "\n",
    "fig, ax = plt.subplots(1, 2, figsize=(10, 4))\n",
    "index_order = np.argsort(cl.cluster_centers[:, 0])\n",
    "for n, metastable_distribution in enumerate(pcca.metastable_distributions):\n",
    "    ax[0].step(cl.cluster_centers[index_order, 0], metastable_distribution[index_order], ':', linewidth=3,\n",
    "               label='metastable distr state {}'.format(n), where='mid')\n",
    "ax[0].set_title('metastable distributions')\n",
    "for _ax in ax:\n",
    "    tx = _ax.twinx()\n",
    "    tx.set_yticklabels([]); tx.set_yticks([])\n",
    "    plot_dw(trjs, cl=cl, hist=True, ax=tx, no_timeseries=True)\n",
    "    \n",
    "ax[1].step(cl.cluster_centers[index_order, 0], -np.log(m.stationary_distribution[index_order]), 'k--', linewidth=3,\n",
    "           label='potential from MSM $\\pi$', where='mid')\n",
    "fig.legend(loc='center right')\n",
    "ax[1].set_title('stat dist');"
   ]
  },
  {
   "cell_type": "markdown",
   "metadata": {},
   "source": [
    "## some \"real world data\""
   ]
  },
  {
   "cell_type": "code",
   "execution_count": null,
   "metadata": {},
   "outputs": [],
   "source": [
    "import mdshare"
   ]
  },
  {
   "cell_type": "code",
   "execution_count": null,
   "metadata": {},
   "outputs": [],
   "source": [
    "pdb = mdshare.fetch('alanine-dipeptide-nowater.pdb', working_directory='data')\n",
    "files = mdshare.fetch('alanine-dipeptide-*-250ns-nowater.xtc', working_directory='data')\n",
    "feat = pyemma.coordinates.featurizer(pdb)\n",
    "\n",
    "feat.add_all()\n",
    "data = pyemma.coordinates.load(files, features=feat)"
   ]
  },
  {
   "cell_type": "markdown",
   "metadata": {},
   "source": [
    "### ill-conducted TICA analysis"
   ]
  },
  {
   "cell_type": "code",
   "execution_count": null,
   "metadata": {},
   "outputs": [],
   "source": [
    "tica = dt.decomposition.TICA(lagtime=data[0].shape[0]-100, dim=2).fit(data).fetch_model()\n",
    "tica_output = [tica.transform(x) for x in data]\n",
    "\n",
    "pyemma.plots.plot_free_energy(*np.concatenate(tica_output).T, legacy=False);"
   ]
  },
  {
   "cell_type": "markdown",
   "metadata": {},
   "source": [
    "### discretization and MSM estimation"
   ]
  },
  {
   "cell_type": "code",
   "execution_count": null,
   "metadata": {},
   "outputs": [],
   "source": [
    "cluster = dt.clustering.KMeans(200, max_iter=50).fit(np.concatenate(tica_output)[::100]).fetch_model()"
   ]
  },
  {
   "cell_type": "code",
   "execution_count": null,
   "metadata": {},
   "outputs": [],
   "source": [
    "lagtimes = [1, 5, 10, 20, 30, 50]\n",
    "dtrajs = [cluster.transform(x) for x in tica_output]\n",
    "its = implied_timescales_msm(dtrajs, lagtimes)\n",
    "ax = dt.plots.plot_implied_timescales(its, marker='o', n_its=3);\n",
    "ax.semilogy()"
   ]
  },
  {
   "cell_type": "markdown",
   "metadata": {},
   "source": [
    "##### -> \"converged\"\n",
    "### coarse graining into two states"
   ]
  },
  {
   "cell_type": "code",
   "execution_count": null,
   "metadata": {},
   "outputs": [],
   "source": [
    "counts = dt.markov.TransitionCountEstimator(20, 'sliding').fit(dtrajs).fetch_model().submodel_largest()\n",
    "msm_estimator = dt.markov.msm.MaximumLikelihoodMSM()\n",
    "msm = msm_estimator.fit(counts).fetch_model()\n",
    "\n",
    "nstates = 2\n",
    "pcca = msm.pcca(nstates);"
   ]
  },
  {
   "cell_type": "code",
   "execution_count": null,
   "metadata": {},
   "outputs": [],
   "source": [
    "stride = 10\n",
    "metastable_trajs_strided = [pcca.assignments[dtraj[::stride]] for dtraj in dtrajs]\n",
    "tica_output_strided = [y[::stride] for y in tica_output]\n",
    "_, _, misc = pyemma.plots.plot_state_map(*np.concatenate(tica_output_strided).T, \n",
    "                                         np.concatenate(metastable_trajs_strided));\n",
    "misc['cbar'].set_ticklabels(range(1, nstates + 1))  # set state numbers 1 ... nstates"
   ]
  },
  {
   "cell_type": "code",
   "execution_count": null,
   "metadata": {},
   "outputs": [],
   "source": [
    "ck_lagtimes = np.arange(1, 11) * msm.lagtime\n",
    "test_models = [dt.markov.msm.MaximumLikelihoodMSM(lagtime=lag).fit_fetch(dtrajs) for lag in ck_lagtimes]"
   ]
  },
  {
   "cell_type": "code",
   "execution_count": null,
   "metadata": {},
   "outputs": [],
   "source": [
    "ck_test = msm.ck_test(test_models, nstates)\n",
    "dt.plots.plot_ck_test(ck_test)"
   ]
  },
  {
   "cell_type": "markdown",
   "metadata": {},
   "source": [
    "# 👍 AWESOME !\n",
    "\n",
    "\n",
    "What could be wrong?\n",
    "\n",
    "\n",
    "### let's have a look at the trajectories as assigned to PCCA coarse states"
   ]
  },
  {
   "cell_type": "code",
   "execution_count": null,
   "metadata": {},
   "outputs": [],
   "source": [
    "fig, ax = plt.subplots(1, 1, figsize=(15, 6), sharey=True, sharex=True)\n",
    "ax_yticks_labels = []\n",
    "for n, pcca_traj in enumerate(metastable_trajs_strided):\n",
    "    ax.plot(range(len(pcca_traj)), pcca.n_metastable * n + pcca_traj, color='k', linewidth=0.3)\n",
    "    ax.scatter(range(len(pcca_traj)), pcca.n_metastable * n + pcca_traj, c=pcca_traj, s=0.1)\n",
    "    ax_yticks_labels.append(((pcca.n_metastable * (2 * n + 1) - 1) / 2, n + 1))\n",
    "ax.set_yticks([l[0] for l in ax_yticks_labels])\n",
    "ax.set_yticklabels([str(l[1]) for l in ax_yticks_labels])\n",
    "ax.set_ylabel('Trajectory #')\n",
    "ax.set_xlabel('time / {} ps'.format(stride))\n",
    "fig.tight_layout()"
   ]
  },
  {
   "cell_type": "markdown",
   "metadata": {},
   "source": [
    "### histogram view doesn't show connectedness nor metastability\n",
    "### Take-away: Stay as close as possible to the trajectories"
   ]
  },
  {
   "cell_type": "code",
   "execution_count": null,
   "metadata": {},
   "outputs": [],
   "source": [
    "fig, axes = plt.subplots(2, 3, figsize=(12, 6), sharex=True, sharey='row')\n",
    "\n",
    "for n, trj in enumerate(tica_output):\n",
    "    for dim, traj1d in enumerate(trj.T):\n",
    "        axes[dim, n].plot(traj1d[::stride], linewidth=.5)\n",
    "for ax in axes[1]:\n",
    "    ax.set_xlabel('time / {} ps'.format(stride))\n",
    "for dim, ax in enumerate(axes[:, 0]):\n",
    "    ax.set_ylabel('IC {}'.format(dim + 1))\n",
    "for n, ax in enumerate(axes[0]):\n",
    "    ax.set_title('Trajectory # {}'.format(n + 1))\n",
    "fig.tight_layout()"
   ]
  },
  {
   "cell_type": "markdown",
   "metadata": {},
   "source": [
    "## Thanks for your attention.\n",
    "\n",
    "An extended version of this notebook with more details & explanations can be found in the our PyEMMA tutorials\n",
    "\n",
    "> Wehmeyer, C.; Scherer, M. K.; Hempel, T.; Husic, B. E.; Olsson, S.; Noé, F. Introduction to Markov State Modeling with the PyEMMA Software [Article v1.0]. LiveCoMS 2018, 1 (1), 5965. https://doi.org/10.33011/livecoms.1.1.5965.\n",
    "\n",
    "or, more specifically, in \n",
    "[this notebook](\n",
    "https://github.com/markovmodel/pyemma_tutorials/blob/master/notebooks/08-common-problems.ipynb)."
   ]
  }
 ],
 "metadata": {
  "kernelspec": {
   "display_name": "Python 3 (ipykernel)",
   "language": "python",
   "name": "python3"
  },
  "language_info": {
   "codemirror_mode": {
    "name": "ipython",
    "version": 3
   },
   "file_extension": ".py",
   "mimetype": "text/x-python",
   "name": "python",
   "nbconvert_exporter": "python",
   "pygments_lexer": "ipython3",
   "version": "3.9.10"
  },
  "toc": {
   "base_numbering": 1,
   "nav_menu": {},
   "number_sections": true,
   "sideBar": true,
   "skip_h1_title": false,
   "title_cell": "Table of Contents",
   "title_sidebar": "Contents",
   "toc_cell": false,
   "toc_position": {},
   "toc_section_display": true,
   "toc_window_display": false
  }
 },
 "nbformat": 4,
 "nbformat_minor": 2
}
