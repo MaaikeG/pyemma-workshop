{
 "cells": [
  {
   "cell_type": "markdown",
   "metadata": {},
   "source": [
    "# Markov models: What could go wrong?\n",
    "<img alt=\"FU BERLIN LOGO\" style=\"border-width:0\" src=\"https://www.fu-berlin.de/assets/default2/fu-logo-1x-2e301182ca3c9a45ae34adf6dca8b6ba.png\" title='FU BERLIN.' align=\"right\"/>\n",
    "\n",
    "```\n",
    "# Tim Hempel\n",
    "# PyEMMA Winterschool 2020\n",
    "# Noe Group, FU Berlin\n",
    "```"
   ]
  },
  {
   "cell_type": "code",
   "execution_count": null,
   "metadata": {},
   "outputs": [],
   "source": [
    "import numpy as np\n",
    "import pyemma\n",
    "import mdshare\n",
    "import matplotlib.pyplot as plt"
   ]
  },
  {
   "cell_type": "code",
   "execution_count": null,
   "metadata": {},
   "outputs": [],
   "source": [
    "plt.matplotlib.rcParams.update({'font.size': 16})"
   ]
  },
  {
   "cell_type": "markdown",
   "metadata": {},
   "source": [
    "## well-sampled double-well potential"
   ]
  },
  {
   "cell_type": "code",
   "execution_count": null,
   "metadata": {},
   "outputs": [],
   "source": [
    "file = mdshare.fetch('hmm-doublewell-2d-100k.npz', working_directory='data')\n",
    "with np.load(file) as fh:\n",
    "    trjs = [fh['trajectory'][:, 1]]\n"
   ]
  },
  {
   "cell_type": "code",
   "execution_count": null,
   "metadata": {},
   "outputs": [],
   "source": [
    "fig, ax = plt.subplots(1, 2, figsize=(10, 4))\n",
    "\n",
    "ax[0].hist(np.concatenate(trjs), bins=50, range=(-3, 3), alpha=1, density=True);\n",
    "ax[0].plot(trjs[0][:200], np.linspace(0, 1, 200), color='k', alpha=.7)\n",
    "\n",
    "cl = pyemma.coordinates.cluster_regspace(trjs, dmin=.05)\n",
    "its = pyemma.msm.its(cl.dtrajs, lags=[i + 1 for i in range(10)])\n",
    "pyemma.plots.plot_implied_timescales(its, marker='o', ax=ax[1])\n",
    "\n",
    "fig.tight_layout()"
   ]
  },
  {
   "cell_type": "code",
   "execution_count": null,
   "metadata": {},
   "outputs": [],
   "source": [
    "def plot_dw(trjs, hist=False, cl=None, ax=None, no_timeseries=False):\n",
    "    if ax is None:\n",
    "        fig, ax = plt.subplots(1, 1)\n",
    "    if hist:\n",
    "        ax.hist(trjs[0], bins=30, range=(-4, 4), alpha=.5, density=True);\n",
    "        ax.hist(trjs[1], bins=30, range=(-4, 4), alpha=.5, density=True);\n",
    "    if cl is None and not no_timeseries:\n",
    "        ax.plot(trjs[0], np.linspace(0, 1, trjs[0].shape[0]), color='C0')\n",
    "        ax.plot(trjs[1], np.linspace(0, 1, trjs[1].shape[0]), color='C1')\n",
    "    elif not no_timeseries:\n",
    "        ax.plot(cl.clustercenters[cl.dtrajs[0], 0], np.linspace(0, 1, cl.dtrajs[0].shape[0]), color='C0')\n",
    "        ax.plot(cl.clustercenters[cl.dtrajs[1], 0], np.linspace(0, 1, cl.dtrajs[1].shape[0]), color='C1')\n",
    "        \n",
    "    ax.set_xlim(-2, 2)\n",
    "    return ax"
   ]
  },
  {
   "cell_type": "markdown",
   "metadata": {},
   "source": [
    "## different kinds of almost well-sampled double well potentials\n",
    "### 1. irreversibly connected"
   ]
  },
  {
   "cell_type": "code",
   "execution_count": null,
   "metadata": {},
   "outputs": [],
   "source": [
    "file = mdshare.fetch('doublewell_oneway.npy', working_directory='data')\n",
    "trjs = [trj for trj in np.load(file)]"
   ]
  },
  {
   "cell_type": "code",
   "execution_count": null,
   "metadata": {},
   "outputs": [],
   "source": [
    "plot_dw(trjs, hist=True);"
   ]
  },
  {
   "cell_type": "code",
   "execution_count": null,
   "metadata": {},
   "outputs": [],
   "source": [
    "cl = pyemma.coordinates.cluster_regspace(trjs, dmin=.7)\n",
    "#cl = pyemma.coordinates.cluster_regspace(trjs, dmin=.1)\n",
    "print(cl.n_clusters)"
   ]
  },
  {
   "cell_type": "code",
   "execution_count": null,
   "metadata": {},
   "outputs": [],
   "source": [
    "plot_dw(trjs, cl=cl, hist=True);"
   ]
  },
  {
   "cell_type": "code",
   "execution_count": null,
   "metadata": {},
   "outputs": [],
   "source": [
    "its = pyemma.msm.its(cl.dtrajs, lags=[1, 10, 100, 200, 300, 500, 800, 1000])\n",
    "pyemma.plots.plot_implied_timescales(its, marker='o')\n",
    "plt.ylim(1e1, 3e5);"
   ]
  },
  {
   "cell_type": "code",
   "execution_count": null,
   "metadata": {},
   "outputs": [],
   "source": [
    "m = its.models[3]\n",
    "\n",
    "ax = plot_dw(trjs, hist=True)\n",
    "ax.set_yticks([])\n",
    "tx = ax.twinx()\n",
    "tx.plot(cl.clustercenters[m.active_set, 0], m.eigenvectors_right()[:, 1], 'ko:', label='first eigvec')\n",
    "tx.set_ylabel('eigenvector')\n",
    "ax.figure.legend()\n",
    "ax.set_xlim(-2, 2)"
   ]
  },
  {
   "cell_type": "code",
   "execution_count": null,
   "metadata": {},
   "outputs": [],
   "source": [
    "m.active_set"
   ]
  },
  {
   "cell_type": "markdown",
   "metadata": {},
   "source": [
    "### 2. disconnected with crossovers"
   ]
  },
  {
   "cell_type": "code",
   "execution_count": null,
   "metadata": {},
   "outputs": [],
   "source": [
    "file = mdshare.fetch('doublewell_disconnected.npy', working_directory='data')\n",
    "trjs = [trj for trj in np.load(file)]"
   ]
  },
  {
   "cell_type": "code",
   "execution_count": null,
   "metadata": {},
   "outputs": [],
   "source": [
    "plot_dw(trjs, hist=True);"
   ]
  },
  {
   "cell_type": "code",
   "execution_count": null,
   "metadata": {
    "scrolled": true
   },
   "outputs": [],
   "source": [
    "cl = pyemma.coordinates.cluster_regspace(trjs, dmin=.7)\n",
    "#cl = pyemma.coordinates.cluster_regspace(trjs, dmin=.1)\n",
    "print(cl.n_clusters)"
   ]
  },
  {
   "cell_type": "code",
   "execution_count": null,
   "metadata": {
    "scrolled": true
   },
   "outputs": [],
   "source": [
    "plot_dw(trjs, cl=cl, hist=True);"
   ]
  },
  {
   "cell_type": "code",
   "execution_count": null,
   "metadata": {
    "scrolled": true
   },
   "outputs": [],
   "source": [
    "its = pyemma.msm.its(cl.dtrajs, lags=[1, 10, 100, 200, 300, 500, 800, 1000])\n",
    "pyemma.plots.plot_implied_timescales(its, marker='o')\n",
    "plt.ylim(1e1, 3e5);"
   ]
  },
  {
   "cell_type": "code",
   "execution_count": null,
   "metadata": {},
   "outputs": [],
   "source": [
    "m = pyemma.msm.estimate_markov_model(cl.dtrajs, lag=200)\n",
    "m.pcca(2)\n",
    "\n",
    "fig, ax = plt.subplots(1, 2, figsize=(10, 4))\n",
    "index_order = np.argsort(cl.clustercenters[:, 0])\n",
    "for n, metastable_distribution in enumerate(m.metastable_distributions):\n",
    "    ax[0].step(cl.clustercenters[index_order, 0], metastable_distribution[index_order], ':', \n",
    "               label='metastable distr state {}'.format(n), where='mid')\n",
    "ax[0].set_title('metastable distributions')\n",
    "for _ax in ax:\n",
    "    tx = _ax.twinx()\n",
    "    tx.set_yticklabels([]); tx.set_yticks([])\n",
    "    plot_dw(trjs, hist=True, ax=tx, no_timeseries=True)\n",
    "    \n",
    "ax[1].step(cl.clustercenters[index_order, 0], -np.log(m.pi[index_order]), 'k--', \n",
    "           label='potential from MSM $\\pi$', where='mid')\n",
    "fig.legend(loc='center right')\n",
    "ax[1].set_title('stat dist');"
   ]
  },
  {
   "cell_type": "markdown",
   "metadata": {},
   "source": [
    "## some \"real world data\""
   ]
  },
  {
   "cell_type": "code",
   "execution_count": null,
   "metadata": {},
   "outputs": [],
   "source": [
    "import mdshare"
   ]
  },
  {
   "cell_type": "code",
   "execution_count": null,
   "metadata": {},
   "outputs": [],
   "source": [
    "pdb = mdshare.fetch('alanine-dipeptide-nowater.pdb', working_directory='data')\n",
    "files = mdshare.fetch('alanine-dipeptide-*-250ns-nowater.xtc', working_directory='data')\n",
    "feat = pyemma.coordinates.featurizer(pdb)\n",
    "\n",
    "feat.add_all()\n",
    "data = pyemma.coordinates.load(files, features=feat)"
   ]
  },
  {
   "cell_type": "markdown",
   "metadata": {},
   "source": [
    "### ill-conducted TICA analysis"
   ]
  },
  {
   "cell_type": "code",
   "execution_count": null,
   "metadata": {},
   "outputs": [],
   "source": [
    "tica = pyemma.coordinates.tica(data, lag=data[0].shape[0] - 100, dim=2)\n",
    "tica_output = tica.get_output()\n",
    "\n",
    "pyemma.plots.plot_free_energy(*np.concatenate(tica_output).T, legacy=False);"
   ]
  },
  {
   "cell_type": "markdown",
   "metadata": {},
   "source": [
    "### discretization and MSM estimation"
   ]
  },
  {
   "cell_type": "code",
   "execution_count": null,
   "metadata": {},
   "outputs": [],
   "source": [
    "cluster = pyemma.coordinates.cluster_kmeans(tica_output, k=200, max_iter=30, stride=100)"
   ]
  },
  {
   "cell_type": "code",
   "execution_count": null,
   "metadata": {},
   "outputs": [],
   "source": [
    "its = pyemma.msm.its(cluster.dtrajs, lags=[1, 5, 10, 20, 30, 50])\n",
    "pyemma.plots.plot_implied_timescales(its, marker='o', units='ps', nits=3);"
   ]
  },
  {
   "cell_type": "markdown",
   "metadata": {},
   "source": [
    "##### -> \"converged\"\n",
    "### coarse graining into two states"
   ]
  },
  {
   "cell_type": "code",
   "execution_count": null,
   "metadata": {},
   "outputs": [],
   "source": [
    "msm = pyemma.msm.estimate_markov_model(cluster.dtrajs, 20)\n",
    "\n",
    "nstates = 2\n",
    "msm.pcca(nstates);"
   ]
  },
  {
   "cell_type": "code",
   "execution_count": null,
   "metadata": {},
   "outputs": [],
   "source": [
    "stride = 10\n",
    "metastable_trajs_strided = [msm.metastable_assignments[dtrj[::stride]] for dtrj in cluster.dtrajs]\n",
    "tica_output_strided = [i[::stride] for i in tica_output]\n",
    "_, _, misc = pyemma.plots.plot_state_map(*np.concatenate(tica_output_strided).T, \n",
    "                                         np.concatenate(metastable_trajs_strided));\n",
    "misc['cbar'].set_ticklabels(range(1, nstates + 1))  # set state numbers 1 ... nstates"
   ]
  },
  {
   "cell_type": "code",
   "execution_count": null,
   "metadata": {},
   "outputs": [],
   "source": [
    "pyemma.plots.plot_cktest(msm.cktest(nstates), units='ps');"
   ]
  },
  {
   "cell_type": "markdown",
   "metadata": {},
   "source": [
    "# 👍 AWESOME !\n",
    "\n",
    "\n",
    "What could be wrong?\n",
    "\n",
    "\n",
    "### let's have a look at the trajectories as assigned to PCCA coarse states"
   ]
  },
  {
   "cell_type": "code",
   "execution_count": null,
   "metadata": {},
   "outputs": [],
   "source": [
    "fig, ax = plt.subplots(1, 1, figsize=(15, 6), sharey=True, sharex=True)\n",
    "ax_yticks_labels = []\n",
    "for n, pcca_traj in enumerate(metastable_trajs_strided):\n",
    "    ax.plot(range(len(pcca_traj)), msm.n_metastable * n + pcca_traj, color='k', linewidth=0.3)\n",
    "    ax.scatter(range(len(pcca_traj)), msm.n_metastable * n + pcca_traj, c=pcca_traj, s=0.1)\n",
    "    ax_yticks_labels.append(((msm.n_metastable * (2 * n + 1) - 1) / 2, n + 1))\n",
    "ax.set_yticks([l[0] for l in ax_yticks_labels])\n",
    "ax.set_yticklabels([str(l[1]) for l in ax_yticks_labels])\n",
    "ax.set_ylabel('Trajectory #')\n",
    "ax.set_xlabel('time / {} ps'.format(stride))\n",
    "fig.tight_layout()"
   ]
  },
  {
   "cell_type": "markdown",
   "metadata": {},
   "source": [
    "### histogram view doesn't show connectedness nor metastability\n",
    "### Take-away: Stay as close as possible to the trajectories"
   ]
  },
  {
   "cell_type": "code",
   "execution_count": null,
   "metadata": {},
   "outputs": [],
   "source": [
    "fig, axes = plt.subplots(2, 3, figsize=(12, 6), sharex=True, sharey='row')\n",
    "\n",
    "for n, trj in enumerate(tica_output):\n",
    "    for dim, traj1d in enumerate(trj.T):\n",
    "        axes[dim, n].plot(traj1d[::stride], linewidth=.5)\n",
    "for ax in axes[1]:\n",
    "    ax.set_xlabel('time / {} ps'.format(stride))\n",
    "for dim, ax in enumerate(axes[:, 0]):\n",
    "    ax.set_ylabel('IC {}'.format(dim + 1))\n",
    "for n, ax in enumerate(axes[0]):\n",
    "    ax.set_title('Trajectory # {}'.format(n + 1))\n",
    "fig.tight_layout()"
   ]
  },
  {
   "cell_type": "markdown",
   "metadata": {},
   "source": [
    "# Thanks for your attention."
   ]
  }
 ],
 "metadata": {
  "kernelspec": {
   "display_name": "Python 3",
   "language": "python",
   "name": "python3"
  },
  "language_info": {
   "codemirror_mode": {
    "name": "ipython",
    "version": 3
   },
   "file_extension": ".py",
   "mimetype": "text/x-python",
   "name": "python",
   "nbconvert_exporter": "python",
   "pygments_lexer": "ipython3",
   "version": "3.7.6"
  }
 },
 "nbformat": 4,
 "nbformat_minor": 2
}
