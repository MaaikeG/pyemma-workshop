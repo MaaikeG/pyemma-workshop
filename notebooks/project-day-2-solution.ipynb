{
 "cells": [
  {
   "cell_type": "markdown",
   "metadata": {
    "toc": true
   },
   "source": [
    "<h1>Table of Contents<span class=\"tocSkip\"></span></h1>\n",
    "<div class=\"toc\"><ul class=\"toc-item\"><li><span><a href=\"#Mini-project-II\" data-toc-modified-id=\"Mini-project-II-1\"><span class=\"toc-item-num\">1&nbsp;&nbsp;</span>Mini project II</a></span><ul class=\"toc-item\"><li><span><a href=\"#Data-preparation-and-MSM-estimation/validation\" data-toc-modified-id=\"Data-preparation-and-MSM-estimation/validation-1.1\"><span class=\"toc-item-num\">1.1&nbsp;&nbsp;</span>Data preparation and MSM estimation/validation</a></span></li></ul></li></ul></div>"
   ]
  },
  {
   "cell_type": "markdown",
   "metadata": {},
   "source": [
    "# Mini project II\n",
    "\n",
    "Content:\n",
    "- Stationary distribution and free energies\n",
    "- Eigenvectors\n",
    "- Metastable states\n",
    "- Mean firts passage times\n",
    "- Committors"
   ]
  },
  {
   "cell_type": "code",
   "execution_count": null,
   "metadata": {
    "ExecuteTime": {
     "end_time": "2021-02-27T08:21:41.942935Z",
     "start_time": "2021-02-27T08:21:41.227106Z"
    }
   },
   "outputs": [],
   "source": [
    "%matplotlib inline\n",
    "import matplotlib.pyplot as plt\n",
    "import matplotlib as mpl\n",
    "import numpy as np\n",
    "import mdshare\n",
    "import pyemma\n",
    "import deeptime as dt\n",
    "\n",
    "\n",
    "def visualize_metastable(samples, cmap, selection='not element H'):\n",
    "    \"\"\" visualize metastable states\n",
    "    Parameters\n",
    "    ----------\n",
    "    samples: list of mdtraj.Trajectory objects\n",
    "        each element contains all samples for one metastable state.\n",
    "    cmap: matplotlib.colors.ListedColormap\n",
    "        color map used to visualize metastable states before.\n",
    "    selection: str\n",
    "        which part of the molecule to selection for visualization. For details have a look here:\n",
    "        http://mdtraj.org/latest/examples/atom-selection.html#Atom-Selection-Language\n",
    "    \"\"\"\n",
    "    import nglview\n",
    "    from matplotlib.colors import to_hex\n",
    "\n",
    "    widget = nglview.NGLWidget()\n",
    "    widget.clear_representations()\n",
    "    ref = samples[0]\n",
    "    for i, s in enumerate(samples):\n",
    "        s = s.superpose(ref, atom_indices=s.top.select('resid 2 3 and mass > 2'))\n",
    "        s = s.atom_slice(s.top.select(selection))\n",
    "        comp = widget.add_trajectory(s)\n",
    "        comp.add_licorice()\n",
    "\n",
    "    # this has to be done in a separate loop for whatever reason...\n",
    "    x = np.linspace(0, 1, num=len(samples))\n",
    "    for i, x_ in enumerate(x):\n",
    "        c = to_hex(cmap(x_))\n",
    "        widget.update_licorice(color=c, component=i, repr_index=i)\n",
    "        widget.remove_cartoon(component=i)\n",
    "    return widget\n",
    "\n",
    "\n",
    "pdb = mdshare.fetch('pentapeptide-impl-solv.pdb', working_directory='data')\n",
    "files = mdshare.fetch('pentapeptide-*-500ns-impl-solv.xtc', working_directory='data')"
   ]
  },
  {
   "cell_type": "markdown",
   "metadata": {},
   "source": [
    "## Data preparation and MSM estimation/validation\n",
    "\n",
    "We load backbone torsions into memory, use a 4D TICA projection at lag time five steps, cluster with 75 $k$-means centers, and show the first 10 implied timescales with errorbars:"
   ]
  },
  {
   "cell_type": "code",
   "execution_count": null,
   "metadata": {
    "ExecuteTime": {
     "end_time": "2021-02-27T08:21:43.913371Z",
     "start_time": "2021-02-27T08:21:43.908320Z"
    }
   },
   "outputs": [],
   "source": [
    "from timescales import implied_timescales_msm"
   ]
  },
  {
   "cell_type": "code",
   "execution_count": null,
   "metadata": {
    "ExecuteTime": {
     "end_time": "2021-02-27T08:22:13.562917Z",
     "start_time": "2021-02-27T08:21:44.898954Z"
    }
   },
   "outputs": [],
   "source": [
    "features = pyemma.coordinates.featurizer(pdb)\n",
    "features.add_backbone_torsions(cossin=True, periodic=False)\n",
    "data = pyemma.coordinates.load(files, features=features)\n",
    "\n",
    "tica_estimator = dt.decomposition.TICA(lagtime=5, dim=4)\n",
    "tica = tica_estimator.fit(data).fetch_model()\n",
    "tica_output = [tica.transform(x) for x in data]\n",
    "\n",
    "kmeans_estimator = dt.clustering.KMeans(75, max_iter=75, fixed_seed=1)\n",
    "kmeans = kmeans_estimator.fit(np.concatenate(tica_output)[::10]).fetch_model()\n",
    "dtrajs = [kmeans.transform(x) for x in tica_output]\n",
    "\n",
    "fig, axes = plt.subplots(1, 3, figsize=(12, 4))\n",
    "pyemma.plots.plot_feature_histograms(\n",
    "    np.concatenate(tica_output),\n",
    "    ax=axes[0],\n",
    "    feature_labels=['IC1', 'IC2', 'IC3', 'IC4'],\n",
    "    ylog=True)\n",
    "pyemma.plots.plot_free_energy(\n",
    "    *np.concatenate(tica_output)[:, :2].T, ax=axes[1], legacy=False)\n",
    "axes[1].scatter(*kmeans.cluster_centers[:, :2].T, s=15, c='k')\n",
    "axes[1].set_xlabel('IC 1')\n",
    "axes[1].set_ylabel('IC 2')\n",
    "pyemma.plots.plot_implied_timescales(\n",
    "    implied_timescales_msm(dtrajs, lagtimes=np.arange(1, 51), nits=10),\n",
    "    units='ns',\n",
    "    dt=0.1,\n",
    "    ax=axes[2])\n",
    "fig.tight_layout()"
   ]
  },
  {
   "cell_type": "markdown",
   "metadata": {},
   "source": [
    "Then, we estimate a Bayesian MSM at lag time five steps and do a CK test with five metastable states:"
   ]
  },
  {
   "cell_type": "code",
   "execution_count": null,
   "metadata": {
    "ExecuteTime": {
     "end_time": "2021-02-27T08:23:35.300740Z",
     "start_time": "2021-02-27T08:23:27.052572Z"
    }
   },
   "outputs": [],
   "source": [
    "counts = dt.markov.TransitionCountEstimator(5, 'effective').fit(dtrajs).fetch_model().submodel_largest()\n",
    "msm_estimator = dt.markov.msm.BayesianMSM()\n",
    "msm = msm_estimator.fit(counts).fetch_model()\n",
    "\n",
    "nstates = 5\n",
    "validator = msm_estimator.chapman_kolmogorov_validator(nstates, mlags=6)\n",
    "cktest = validator.fit(dtrajs).fetch_model()\n",
    "\n",
    "pyemma.plots.plot_cktest(cktest, dt=0.1, units='ns');"
   ]
  },
  {
   "cell_type": "markdown",
   "metadata": {},
   "source": [
    "Visualise the MSM stationary distribution and the reweighted free energy surface in the first two ICs:"
   ]
  },
  {
   "cell_type": "code",
   "execution_count": null,
   "metadata": {
    "ExecuteTime": {
     "end_time": "2021-02-27T08:24:03.316747Z",
     "start_time": "2021-02-27T08:24:02.769724Z"
    }
   },
   "outputs": [],
   "source": [
    "fig, axes = plt.subplots(1, 2, figsize=(10, 4), sharex=True, sharey=True)\n",
    "pyemma.plots.plot_contour(\n",
    "    *np.concatenate(tica_output)[:, :2].T,\n",
    "    msm.prior.stationary_distribution[np.concatenate(dtrajs)],\n",
    "    ax=axes[0],\n",
    "    mask=True,\n",
    "    cbar_label='stationary distribution')\n",
    "pyemma.plots.plot_free_energy(\n",
    "    *np.concatenate(tica_output)[:, :2].T,\n",
    "    weights=np.concatenate(msm.prior.compute_trajectory_weights(dtrajs)),\n",
    "    ax=axes[1],\n",
    "    legacy=False)\n",
    "for ax in axes.flat:\n",
    "    ax.set_xlabel('IC 1')\n",
    "axes[0].set_ylabel('IC 2')\n",
    "axes[0].set_title('Stationary distribution', fontweight='bold')\n",
    "axes[1].set_title('Reweighted free energy surface', fontweight='bold')\n",
    "fig.tight_layout()"
   ]
  },
  {
   "cell_type": "markdown",
   "metadata": {},
   "source": [
    "Show the first four nontrivial right eigenvectors projected into the first two ICs:"
   ]
  },
  {
   "cell_type": "code",
   "execution_count": null,
   "metadata": {
    "ExecuteTime": {
     "end_time": "2021-02-27T08:25:55.344056Z",
     "start_time": "2021-02-27T08:25:54.237305Z"
    }
   },
   "outputs": [],
   "source": [
    "eigvec = msm.prior.eigenvectors_right()\n",
    "print('The first eigenvector is one: {} (min={}, max={})'.format(\n",
    "    np.allclose(eigvec[:, 0], 1, atol=1e-15), eigvec[:, 0].min(), eigvec[:, 0].max()))\n",
    "\n",
    "fig, axes = plt.subplots(1, 4, figsize=(15, 3), sharex=True, sharey=True)\n",
    "for i, ax in enumerate(axes.flat):\n",
    "    pyemma.plots.plot_contour(\n",
    "        *np.concatenate(tica_output)[:, :2].T,\n",
    "        eigvec[np.concatenate(dtrajs), i + 1],\n",
    "        ax=ax,\n",
    "        cmap='PiYG',\n",
    "        cbar_label='{}. right eigenvector'.format(i + 2),\n",
    "        mask=True)\n",
    "    ax.set_xlabel('IC 1')\n",
    "axes[0].set_ylabel('IC 2')\n",
    "fig.tight_layout()"
   ]
  },
  {
   "cell_type": "markdown",
   "metadata": {},
   "source": [
    "Show the metastable state assigments projected into the first two ICs:"
   ]
  },
  {
   "cell_type": "code",
   "execution_count": null,
   "metadata": {
    "ExecuteTime": {
     "end_time": "2021-02-27T08:28:23.142648Z",
     "start_time": "2021-02-27T08:28:22.991395Z"
    }
   },
   "outputs": [],
   "source": [
    "pcca = msm.prior.pcca(5)"
   ]
  },
  {
   "cell_type": "code",
   "execution_count": null,
   "metadata": {
    "ExecuteTime": {
     "end_time": "2021-02-27T08:28:32.059119Z",
     "start_time": "2021-02-27T08:28:31.613046Z"
    }
   },
   "outputs": [],
   "source": [
    "metastable_traj = pcca.assignments[np.concatenate(dtrajs)]\n",
    "\n",
    "fig, ax = plt.subplots(figsize=(5, 4))\n",
    "_, _, misc = pyemma.plots.plot_state_map(\n",
    "    *np.concatenate(tica_output)[:, :2].T, metastable_traj, ax=ax)\n",
    "ax.set_xlabel('IC 1')\n",
    "ax.set_ylabel('IC 2')\n",
    "misc['cbar'].set_ticklabels([r'$\\mathcal{S}_%d$' % (i + 1)\n",
    "                             for i in range(nstates)])\n",
    "fig.tight_layout()"
   ]
  },
  {
   "cell_type": "markdown",
   "metadata": {},
   "source": [
    "Sample 50 frames from the five metastable distributions and visualise using nglview:"
   ]
  },
  {
   "cell_type": "code",
   "execution_count": null,
   "metadata": {
    "ExecuteTime": {
     "end_time": "2021-02-27T09:45:10.857682Z",
     "start_time": "2021-02-27T09:45:08.463135Z"
    }
   },
   "outputs": [],
   "source": [
    "indices = dt.markov.sample.compute_index_states(dtrajs)\n",
    "sample_indices = dt.markov.sample.indices_by_distribution(indices, pcca.metastable_distributions, 50)\n",
    "\n",
    "my_samples = [pyemma.coordinates.save_traj(files, idist, outfile=None, top=pdb)\n",
    "              for idist in sample_indices]\n",
    "\n",
    "cmap = mpl.cm.get_cmap('viridis', nstates)\n",
    "visualize_metastable(my_samples, cmap)"
   ]
  },
  {
   "cell_type": "markdown",
   "metadata": {},
   "source": [
    "Compute the stationary probabilities and free energies for the five metastable states:"
   ]
  },
  {
   "cell_type": "code",
   "execution_count": null,
   "metadata": {
    "ExecuteTime": {
     "end_time": "2021-02-27T09:45:58.346993Z",
     "start_time": "2021-02-27T09:45:58.339678Z"
    }
   },
   "outputs": [],
   "source": [
    "print('state\\tπ\\t\\tG/kT')\n",
    "for i, s in enumerate(pcca.sets):\n",
    "    p = msm.prior.stationary_distribution[s].sum()\n",
    "    print('{}\\t{:f}\\t{:f}'.format(i + 1, p, -np.log(p)))"
   ]
  },
  {
   "cell_type": "markdown",
   "metadata": {},
   "source": [
    "Compute mean first passage times (MFPTs) between all five metastable states:"
   ]
  },
  {
   "cell_type": "code",
   "execution_count": null,
   "metadata": {
    "ExecuteTime": {
     "end_time": "2021-02-27T09:46:24.120695Z",
     "start_time": "2021-02-27T09:46:23.925335Z"
    }
   },
   "outputs": [],
   "source": [
    "from itertools import product\n",
    "\n",
    "mfpt = np.zeros((nstates, nstates))\n",
    "for i, j in product(range(nstates), repeat=2):\n",
    "    mfpt[i, j] = msm.prior.mfpt(\n",
    "        pcca.sets[i],\n",
    "        pcca.sets[j])\n",
    "\n",
    "from pandas import DataFrame\n",
    "print('MFPT / ns:')\n",
    "DataFrame(np.round(mfpt, decimals=2), index=range(1, nstates + 1), columns=range(1, nstates + 1))"
   ]
  },
  {
   "cell_type": "markdown",
   "metadata": {},
   "source": [
    "Compute the coarse-grained flux from metastable state 1 to metastable state 3 and visualise the commitor projected into the first two ICs:"
   ]
  },
  {
   "cell_type": "code",
   "execution_count": null,
   "metadata": {
    "ExecuteTime": {
     "end_time": "2021-02-27T09:47:38.523244Z",
     "start_time": "2021-02-27T09:47:38.042592Z"
    }
   },
   "outputs": [],
   "source": [
    "start, final = 1, 3\n",
    "A = pcca.sets[start]\n",
    "B = pcca.sets[final]\n",
    "flux = msm.prior.reactive_flux(A, B)\n",
    "\n",
    "cg, cgflux = flux.coarse_grain(pcca.sets)\n",
    "\n",
    "fig, ax = plt.subplots(figsize=(5, 4))\n",
    "pyemma.plots.plot_contour(\n",
    "    *np.concatenate(tica_output)[:, :2].T,\n",
    "    flux.forward_committor[np.concatenate(dtrajs)],\n",
    "    cmap='brg',\n",
    "    ax=ax,\n",
    "    mask=True,\n",
    "    cbar_label=r'committor $\\mathcal{S}_%d \\to \\mathcal{S}_%d$' % (\n",
    "        start + 1, final + 1))\n",
    "fig.tight_layout()"
   ]
  },
  {
   "cell_type": "code",
   "execution_count": null,
   "metadata": {},
   "outputs": [],
   "source": []
  }
 ],
 "metadata": {
  "kernelspec": {
   "display_name": "Python 3",
   "language": "python",
   "name": "python3"
  },
  "language_info": {
   "codemirror_mode": {
    "name": "ipython",
    "version": 3
   },
   "file_extension": ".py",
   "mimetype": "text/x-python",
   "name": "python",
   "nbconvert_exporter": "python",
   "pygments_lexer": "ipython3",
   "version": "3.8.8"
  },
  "toc": {
   "base_numbering": 1,
   "nav_menu": {},
   "number_sections": true,
   "sideBar": true,
   "skip_h1_title": false,
   "title_cell": "Table of Contents",
   "title_sidebar": "Contents",
   "toc_cell": true,
   "toc_position": {},
   "toc_section_display": true,
   "toc_window_display": true
  }
 },
 "nbformat": 4,
 "nbformat_minor": 2
}
