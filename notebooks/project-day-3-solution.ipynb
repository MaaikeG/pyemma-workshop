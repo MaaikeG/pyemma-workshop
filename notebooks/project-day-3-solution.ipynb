{
 "cells": [
  {
   "cell_type": "markdown",
   "metadata": {},
   "source": [
    "# MEMM project: NaCL umbrella sampling"
   ]
  },
  {
   "cell_type": "code",
   "execution_count": null,
   "metadata": {},
   "outputs": [],
   "source": [
    "%matplotlib inline\n",
    "import matplotlib.pyplot as plt\n",
    "import matplotlib as mpl\n",
    "import numpy as np\n",
    "import pyemma\n",
    "import mdshare\n",
    "\n",
    "mpl.rcParams.update({'font.size': 14})"
   ]
  },
  {
   "cell_type": "markdown",
   "metadata": {},
   "source": [
    "Now it is your turn. Below you will find a dataset of a Na-Cl-dimer in TiP3P water; the dataset includes Na-Cl-distance timeseries from NN biased simulations which incrementally pull the ions apart and 20 unbiased simulations started at a Na-Cl-distance of approximately 3.5 Angstrom. The umbrella sampling parameters and the kT value are also given.\n",
    "\n",
    "All distances in the dataset are in Angstrom, energies in kcal/mol, and the trajectory timestep is 1 ps."
   ]
  },
  {
   "cell_type": "code",
   "execution_count": null,
   "metadata": {},
   "outputs": [],
   "source": [
    "with np.load(mdshare.fetch('pyemma-tutorial-us-nacl.npz', working_directory='data')) as fh:\n",
    "    us_trajs = [fh['us_traj_%03d' % i] for i in range(60)]\n",
    "    us_centers = fh['us_centers'].tolist()\n",
    "    us_force_constants = fh['us_force_constants'].tolist()\n",
    "    md_trajs = [fh['md_traj_%03d' % i] for i in range(20)]\n",
    "    kT = float(fh['kT'])"
   ]
  },
  {
   "cell_type": "markdown",
   "metadata": {},
   "source": [
    "### Step 1\n",
    "\n",
    "You can experiment with visualizations of the raw data or jump straight into the discretization."
   ]
  },
  {
   "cell_type": "code",
   "execution_count": null,
   "metadata": {},
   "outputs": [],
   "source": [
    "plt.plot(us_centers, us_force_constants, '--o')\n",
    "plt.xlabel('reaction coordinate')\n",
    "plt.ylabel('force constant')"
   ]
  },
  {
   "cell_type": "code",
   "execution_count": null,
   "metadata": {},
   "outputs": [],
   "source": [
    "from scipy.stats import gaussian_kde\n",
    "\n",
    "fig, axes = plt.subplots(2, figsize=(14, 8))\n",
    "\n",
    "for ax, dataset in zip(axes, (us_trajs, md_trajs)):\n",
    "    for traj in dataset:\n",
    "        kde = gaussian_kde(traj[:, 0])\n",
    "        x = np.linspace(np.min(traj), np.max(traj), 100)\n",
    "        y = kde(x)\n",
    "        ax.plot(x, y)\n",
    "        ax.fill_between(x, 0, y, alpha=0.1)\n",
    "axes[0].set_ylabel('biased')\n",
    "axes[1].set_ylabel('unbiased')\n",
    "fig.tight_layout()"
   ]
  },
  {
   "cell_type": "code",
   "execution_count": null,
   "metadata": {},
   "outputs": [],
   "source": [
    "data = np.concatenate([traj[:, 0] for traj in md_trajs])\n",
    "kde_obs = gaussian_kde(data)\n",
    "x_obs = np.linspace(np.min(data), np.max(data), 1000)\n",
    "plt.plot(x_obs, kde_obs(x_obs))"
   ]
  },
  {
   "cell_type": "code",
   "execution_count": null,
   "metadata": {},
   "outputs": [],
   "source": [
    "for traj in md_trajs:\n",
    "    plt.plot(traj[:20, 0])"
   ]
  },
  {
   "cell_type": "code",
   "execution_count": null,
   "metadata": {},
   "outputs": [],
   "source": [
    "xmin = np.min([np.min(traj) for traj in us_trajs + md_trajs])\n",
    "xmax = np.max([np.max(traj) for traj in us_trajs + md_trajs])\n",
    "x = np.linspace(xmin, xmax, 101)\n",
    "centers = 0.5 * (x[:-1] + x[1:])\n",
    "\n",
    "us_dtrajs = pyemma.coordinates.assign_to_centers(us_trajs, centers=centers.reshape(-1, 1))\n",
    "md_dtrajs = pyemma.coordinates.assign_to_centers(md_trajs, centers=centers.reshape(-1, 1))"
   ]
  },
  {
   "cell_type": "markdown",
   "metadata": {},
   "source": [
    "### Step 2\n",
    "Try to apply WHAM to get a quick estimate of the stationary properties of the system. Try only the biased data or use both biased and unbiased."
   ]
  },
  {
   "cell_type": "code",
   "execution_count": null,
   "metadata": {},
   "outputs": [],
   "source": [
    "wham = pyemma.thermo.estimate_umbrella_sampling(\n",
    "    us_trajs, us_dtrajs, us_centers, us_force_constants,\n",
    "    md_trajs=None, md_dtrajs=None, kT=kT,\n",
    "    maxiter=100000, maxerr=1e-15, save_convergence_info=50,\n",
    "    estimator='wham', lag=1, dt_traj='1 step',\n",
    "    init=None, init_maxiter=10000, init_maxerr=1e-08)\n",
    "\n",
    "pyemma.plots.plot_convergence_info(wham);"
   ]
  },
  {
   "cell_type": "code",
   "execution_count": null,
   "metadata": {},
   "outputs": [],
   "source": [
    "y_obs = kde_obs(centers[wham.active_set])\n",
    "y_obs /= y_obs.sum()\n",
    "\n",
    "plt.plot(centers[wham.active_set], y_obs, '--s', label='unbiased observation')\n",
    "plt.plot(centers[wham.active_set], wham.pi, '--o', label='wham (biased)')\n",
    "plt.xlabel('reaction coordinate')\n",
    "plt.ylabel('stationary distribution')\n",
    "plt.legend();"
   ]
  },
  {
   "cell_type": "markdown",
   "metadata": {},
   "source": [
    "### Step 3\n",
    "Now apply DTRAM and estimate the kinetic properties of the system. Remember: kinetics require unbiased data!"
   ]
  },
  {
   "cell_type": "code",
   "execution_count": null,
   "metadata": {},
   "outputs": [],
   "source": [
    "dtram_list = pyemma.thermo.estimate_umbrella_sampling(\n",
    "    us_trajs, us_dtrajs, us_centers, us_force_constants,\n",
    "    md_trajs=md_trajs, md_dtrajs=md_dtrajs, kT=kT,\n",
    "    maxiter=20000, maxerr=1e-15, save_convergence_info=10,\n",
    "    estimator='dtram', lag=[1, 2, 3, 5, 7, 10, 15, 20], dt_traj='1 step',\n",
    "    init=None, init_maxiter=10000, init_maxerr=1e-08)\n",
    "\n",
    "pyemma.plots.plot_convergence_info(dtram_list)\n",
    "pyemma.plots.plot_memm_implied_timescales(dtram_list, nits=10);"
   ]
  },
  {
   "cell_type": "code",
   "execution_count": null,
   "metadata": {},
   "outputs": [],
   "source": [
    "dtram = dtram_list[3]\n",
    "print(f'lag time = {dtram.lag} steps')\n",
    "\n",
    "y_obs = kde_obs(centers[dtram.active_set])\n",
    "y_obs /= y_obs.sum()\n",
    "\n",
    "plt.plot(centers[dtram.active_set], y_obs, '--s', label='unbiased observation')\n",
    "plt.plot(centers[dtram.active_set], dtram.pi, '--o', label='dtram (biased + unbiased)')\n",
    "plt.xlabel('reaction coordinate')\n",
    "plt.ylabel('stationary distribution')\n",
    "plt.legend();"
   ]
  },
  {
   "cell_type": "code",
   "execution_count": null,
   "metadata": {},
   "outputs": [],
   "source": [
    "n = 4\n",
    "\n",
    "msm = dtram.msm\n",
    "msm.pcca(n)\n",
    "\n",
    "for i, (metastable_set) in enumerate(msm.metastable_sets):\n",
    "    print(f'weight of metastable state {i}: {msm.pi[metastable_set].sum():.3f}')\n",
    "    plt.plot(\n",
    "        centers[metastable_set],\n",
    "        msm.pi[metastable_set],\n",
    "        linewidth=3,\n",
    "        label=f'metastable state {i}')\n",
    "plt.legend()\n",
    "\n",
    "from itertools import product\n",
    "mfpt = np.zeros((n, n))\n",
    "for i, j in product(range(n), range(n)):\n",
    "    start = msm.metastable_sets[i]\n",
    "    stop = msm.metastable_sets[j]\n",
    "    mfpt[i, j] = msm.mfpt(start, stop)\n",
    "\n",
    "print('\\nMFPTs in steps')\n",
    "print(mfpt.round(decimals=0).astype(np.int))"
   ]
  },
  {
   "cell_type": "markdown",
   "metadata": {},
   "source": [
    "### Step 4\n",
    "We have unbiased data, so let's build a regular MSM and compare with the MEMM results."
   ]
  },
  {
   "cell_type": "code",
   "execution_count": null,
   "metadata": {},
   "outputs": [],
   "source": [
    "pyemma.plots.plot_implied_timescales(\n",
    "    pyemma.msm.its(md_dtrajs, 50, nits=5, errors='bayes'));"
   ]
  },
  {
   "cell_type": "code",
   "execution_count": null,
   "metadata": {},
   "outputs": [],
   "source": [
    "msm = pyemma.msm.bayesian_markov_model(md_dtrajs, 5)\n",
    "\n",
    "pyemma.plots.plot_cktest(msm.cktest(4));"
   ]
  },
  {
   "cell_type": "code",
   "execution_count": null,
   "metadata": {},
   "outputs": [],
   "source": [
    "n = len(msm.metastable_sets)\n",
    "\n",
    "for i, (metastable_set) in enumerate(msm.metastable_sets):\n",
    "    print(f'weight of metastable state {i}: {msm.pi[metastable_set].sum():.3f}')\n",
    "    plt.plot(\n",
    "        centers[metastable_set],\n",
    "        msm.pi[metastable_set],\n",
    "        linewidth=3,\n",
    "        label=f'metastable state {i}')\n",
    "plt.legend()\n",
    "\n",
    "from itertools import product\n",
    "mfpt = np.zeros((n, n))\n",
    "for i, j in product(range(n), range(n)):\n",
    "    start = msm.metastable_sets[i]\n",
    "    stop = msm.metastable_sets[j]\n",
    "    mfpt[i, j] = msm.mfpt(start, stop)\n",
    "\n",
    "print('\\nMFPTs in steps')\n",
    "print(mfpt.round(decimals=0).astype(np.int))"
   ]
  },
  {
   "cell_type": "code",
   "execution_count": null,
   "metadata": {},
   "outputs": [],
   "source": []
  }
 ],
 "metadata": {
  "kernelspec": {
   "display_name": "Python 3",
   "language": "python",
   "name": "python3"
  },
  "language_info": {
   "codemirror_mode": {
    "name": "ipython",
    "version": 3
   },
   "file_extension": ".py",
   "mimetype": "text/x-python",
   "name": "python",
   "nbconvert_exporter": "python",
   "pygments_lexer": "ipython3",
   "version": "3.7.1"
  }
 },
 "nbformat": 4,
 "nbformat_minor": 2
}
