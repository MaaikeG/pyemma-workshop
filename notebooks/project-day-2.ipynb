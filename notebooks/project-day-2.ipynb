{
 "cells": [
  {
   "cell_type": "markdown",
   "metadata": {},
   "source": [
    "# Mini project II\n",
    "\n",
    "Content:\n",
    "- Stationary distribution and free energies\n",
    "- Eigenvectors\n",
    "- Metastable states\n",
    "- Mean firts passage times\n",
    "- Committors"
   ]
  },
  {
   "cell_type": "code",
   "execution_count": null,
   "metadata": {},
   "outputs": [],
   "source": [
    "%matplotlib inline\n",
    "import matplotlib.pyplot as plt\n",
    "import matplotlib as mpl\n",
    "import numpy as np\n",
    "import mdshare\n",
    "import pyemma\n",
    "\n",
    "\n",
    "def visualize_metastable(samples, cmap, selection='not element H'):\n",
    "    \"\"\" visualize metastable states\n",
    "    Parameters\n",
    "    ----------\n",
    "    samples: list of mdtraj.Trajectory objects\n",
    "        each element contains all samples for one metastable state.\n",
    "    cmap: matplotlib.colors.ListedColormap\n",
    "        color map used to visualize metastable states before.\n",
    "    selection: str\n",
    "        which part of the molecule to selection for visualization. For details have a look here:\n",
    "        http://mdtraj.org/latest/examples/atom-selection.html#Atom-Selection-Language\n",
    "    \"\"\"\n",
    "    import nglview\n",
    "    from matplotlib.colors import to_hex\n",
    "\n",
    "    widget = nglview.NGLWidget()\n",
    "    widget.clear_representations()\n",
    "    ref = samples[0]\n",
    "    for i, s in enumerate(samples):\n",
    "        s = s.superpose(ref, atom_indices=s.top.select('resid 2 3 and mass > 2'))\n",
    "        s = s.atom_slice(s.top.select(selection))\n",
    "        comp = widget.add_trajectory(s)\n",
    "        comp.add_licorice()\n",
    "\n",
    "    # this has to be done in a separate loop for whatever reason...\n",
    "    x = np.linspace(0, 1, num=len(samples))\n",
    "    for i, x_ in enumerate(x):\n",
    "        c = to_hex(cmap(x_))\n",
    "        widget.update_licorice(color=c, component=i, repr_index=i)\n",
    "        widget.remove_cartoon(component=i)\n",
    "    return widget\n",
    "\n",
    "\n",
    "pdb = mdshare.fetch('pentapeptide-impl-solv.pdb', working_directory='data')\n",
    "files = mdshare.fetch('pentapeptide-*-500ns-impl-solv.xtc', working_directory='data')"
   ]
  },
  {
   "cell_type": "markdown",
   "metadata": {},
   "source": [
    "## Data preparation and MSM estimation/validation\n",
    "\n",
    "We load backbone torsions into memory, use a 4D TICA projection at lag time five steps, cluster with 75 $k$-means centers, and show the first 10 implied timescales with errorbars:"
   ]
  },
  {
   "cell_type": "code",
   "execution_count": null,
   "metadata": {},
   "outputs": [],
   "source": [
    "features = pyemma.coordinates.featurizer(pdb)\n",
    "features.add_backbone_torsions(cossin=True, periodic=False)\n",
    "data = pyemma.coordinates.#FIXME\n",
    "\n",
    "tica = pyemma.coordinates.#FIXME\n",
    "tica_output = tica.get_output()\n",
    "tica_concatenated = np.concatenate(tica_output)\n",
    "\n",
    "cluster = pyemma.coordinates.cluster_kmeans(\n",
    "    tica_output, k=75, max_iter=50, stride=10, fixed_seed=1)\n",
    "dtrajs_concatenated = np.concatenate(cluster.dtrajs)\n",
    "\n",
    "fig, axes = plt.subplots(1, 3, figsize=(12, 4))\n",
    "pyemma.plots.plot_feature_histograms(\n",
    "    tica_concatenated,\n",
    "    ax=axes[0],\n",
    "    feature_labels=['IC1', 'IC2', 'IC3', 'IC4'],\n",
    "    ylog=True)\n",
    "pyemma.plots.plot_free_energy(\n",
    "    *tica_concatenated[:, :2].T, ax=axes[1], legacy=False)\n",
    "axes[1].scatter(*cluster.clustercenters[:, :2].T, s=15, c='k')\n",
    "axes[1].set_xlabel('IC 1')\n",
    "axes[1].set_ylabel('IC 2')\n",
    "pyemma.plots.plot_implied_timescales(\n",
    "    pyemma.msm.its(cluster.dtrajs, lags=50, nits=10, errors='bayes'),\n",
    "    units='ns',\n",
    "    dt=0.1,\n",
    "    ax=axes[2])\n",
    "fig.tight_layout()"
   ]
  },
  {
   "cell_type": "markdown",
   "metadata": {},
   "source": [
    "Then, we estimate a Bayesian MSM at lag time five steps and do a CK test with five metastable states:"
   ]
  },
  {
   "cell_type": "code",
   "execution_count": null,
   "metadata": {},
   "outputs": [],
   "source": [
    "msm = pyemma.msm.bayesian_markov_model(cluster.dtrajs, lag=5, dt_traj='0.1 ns')\n",
    "\n",
    "nstates = 5\n",
    "pyemma.plots.plot_cktest(msm.cktest(nstates, mlags=6), dt=0.1, units='ns');"
   ]
  },
  {
   "cell_type": "markdown",
   "metadata": {},
   "source": [
    "Visualise the MSM stationary distribution and the reweighted free energy surface in the first two ICs:"
   ]
  },
  {
   "cell_type": "code",
   "execution_count": null,
   "metadata": {},
   "outputs": [],
   "source": [
    "fig, axes = plt.subplots(1, 2, figsize=(10, 4), sharex=True, sharey=True)\n",
    "pyemma.plots.plot_contour(\n",
    "    *tica_concatenated[:, :2].T,\n",
    "    msm.pi[dtrajs_concatenated],\n",
    "    ax=axes[0],\n",
    "    mask=True,\n",
    "    cbar_label='stationary distribution')\n",
    "pyemma.plots.plot_free_energy(\n",
    "    *tica_concatenated[:, :2].T,\n",
    "    weights=#FIXME,\n",
    "    ax=axes[1],\n",
    "    legacy=False)\n",
    "for ax in axes.flat:\n",
    "    ax.set_xlabel('IC 1')\n",
    "axes[0].set_ylabel('IC 2')\n",
    "axes[0].set_title('Stationary distribution', fontweight='bold')\n",
    "axes[1].set_title('Reweighted free energy surface', fontweight='bold')\n",
    "fig.tight_layout()"
   ]
  },
  {
   "cell_type": "markdown",
   "metadata": {},
   "source": [
    "Show the first four nontrivial right eigenvectors projected into the first two ICs:"
   ]
  },
  {
   "cell_type": "code",
   "execution_count": null,
   "metadata": {},
   "outputs": [],
   "source": [
    "eigvec = msm.#FIXME\n",
    "print('The first eigenvector is one: {} (min={}, max={})'.format(\n",
    "    np.allclose(eigvec[:, 0], 1, atol=1e-15), eigvec[:, 0].min(), eigvec[:, 0].max()))\n",
    "\n",
    "fig, axes = plt.subplots(1, 4, figsize=(15, 3), sharex=True, sharey=True)\n",
    "for i, ax in enumerate(axes.flat):\n",
    "    pyemma.plots.plot_contour(\n",
    "        *tica_concatenated[:, :2].T,\n",
    "        #FIXME,\n",
    "        ax=ax,\n",
    "        cmap='PiYG',\n",
    "        cbar_label='{}. right eigenvector'.format(i + 2),\n",
    "        mask=True)\n",
    "    ax.set_xlabel('IC 1')\n",
    "axes[0].set_ylabel('IC 2')\n",
    "fig.tight_layout()"
   ]
  },
  {
   "cell_type": "markdown",
   "metadata": {},
   "source": [
    "Show the metastable state assigments projected into the first two ICs:"
   ]
  },
  {
   "cell_type": "code",
   "execution_count": null,
   "metadata": {},
   "outputs": [],
   "source": [
    "metastable_traj = msm.metastable_assignments[dtrajs_concatenated]\n",
    "\n",
    "fig, ax = plt.subplots(figsize=(5, 4))\n",
    "_, _, misc = pyemma.plots.#FIXME (\n",
    "    *tica_concatenated[:, :2].T, metastable_traj, ax=ax)\n",
    "ax.set_xlabel('IC 1')\n",
    "ax.set_ylabel('IC 2')\n",
    "misc['cbar'].set_ticklabels([r'$\\mathcal{S}_%d$' % (i + 1)\n",
    "                             for i in range(nstates)])\n",
    "fig.tight_layout()"
   ]
  },
  {
   "cell_type": "markdown",
   "metadata": {},
   "source": [
    "Sample 50 frames from the five metastable distributions and visualise using nglview:"
   ]
  },
  {
   "cell_type": "code",
   "execution_count": null,
   "metadata": {},
   "outputs": [],
   "source": [
    "my_samples = [pyemma.coordinates.save_traj(files, idist, outfile=None, top=pdb)\n",
    "              for idist in msm.sample_by_distributions(#FIXME, 50)]\n",
    "\n",
    "cmap = mpl.cm.get_cmap('viridis', nstates)\n",
    "visualize_metastable(my_samples, cmap)"
   ]
  },
  {
   "cell_type": "markdown",
   "metadata": {},
   "source": [
    "Compute the stationary probabilities and free energies for the five metastable states:"
   ]
  },
  {
   "cell_type": "code",
   "execution_count": null,
   "metadata": {},
   "outputs": [],
   "source": [
    "print('state\\tπ\\t\\tG/kT')\n",
    "for i, s in enumerate(msm.metastable_sets):\n",
    "    p = #FIXME\n",
    "    print('{}\\t{:f}\\t{:f}'.format(i + 1, p, -np.log(p)))"
   ]
  },
  {
   "cell_type": "markdown",
   "metadata": {},
   "source": [
    "Compute mean first passage times (MFPTs) between all five metastable states:"
   ]
  },
  {
   "cell_type": "code",
   "execution_count": null,
   "metadata": {},
   "outputs": [],
   "source": [
    "from itertools import product\n",
    "\n",
    "mfpt = np.zeros((nstates, nstates))\n",
    "for i, j in product(range(nstates), repeat=2):\n",
    "    mfpt[i, j] = #FIXME\n",
    "\n",
    "from pandas import DataFrame\n",
    "print('MFPT / ns:')\n",
    "DataFrame(np.round(mfpt, decimals=2), index=range(1, nstates + 1), columns=range(1, nstates + 1))"
   ]
  },
  {
   "cell_type": "markdown",
   "metadata": {},
   "source": [
    "Compute the coarse-grained flux from metastable state 1 to metastable state 3 and visualise the commitor projected into the first two ICs:"
   ]
  },
  {
   "cell_type": "code",
   "execution_count": null,
   "metadata": {},
   "outputs": [],
   "source": [
    "start, final = 1, 3\n",
    "A = msm.metastable_sets[start]\n",
    "B = msm.metastable_sets[final]\n",
    "flux = pyemma.msm.tpt(msm, A, B)\n",
    "\n",
    "cg, cgflux = #FIXME\n",
    "\n",
    "fig, ax = plt.subplots(figsize=(5, 4))\n",
    "pyemma.plots.plot_contour(\n",
    "    *tica_concatenated[:, :2].T,\n",
    "    #FIXME,\n",
    "    cmap='brg',\n",
    "    ax=ax,\n",
    "    mask=True,\n",
    "    cbar_label=r'committor $\\mathcal{S}_%d \\to \\mathcal{S}_%d$' % (\n",
    "        start + 1, final + 1))\n",
    "fig.tight_layout()"
   ]
  }
 ],
 "metadata": {
  "kernelspec": {
   "display_name": "Python 3",
   "language": "python",
   "name": "python3"
  },
  "language_info": {
   "codemirror_mode": {
    "name": "ipython",
    "version": 3
   },
   "file_extension": ".py",
   "mimetype": "text/x-python",
   "name": "python",
   "nbconvert_exporter": "python",
   "pygments_lexer": "ipython3",
   "version": "3.7.1"
  }
 },
 "nbformat": 4,
 "nbformat_minor": 2
}
