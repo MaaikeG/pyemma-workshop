{
 "cells": [
  {
   "cell_type": "markdown",
   "metadata": {},
   "source": [
    "# MSM analysis\n",
    "\n",
    "<a rel=\"license\" href=\"http://creativecommons.org/licenses/by/4.0/\"><img alt=\"Creative Commons Licence\" style=\"border-width:0\" src=\"https://i.creativecommons.org/l/by/4.0/88x31.png\" title='This work is licensed under a Creative Commons Attribution 4.0 International License.' align=\"right\"/></a>\n",
    "\n",
    "In this notebook, we will cover how to analyze an MSM and how the modeled processes correspond to MSM spectral properties.\n",
    "We assume that you are familiar with data loading/visualization,\n",
    "dimension reduction, and the estimation and validation process .\n",
    "\n",
    "\n",
    "**Remember**:\n",
    "- to run the currently highlighted cell, hold <kbd>&#x21E7; Shift</kbd> and press <kbd>&#x23ce; Enter</kbd>;\n",
    "- to get help for a specific function, place the cursor within the function's brackets, hold <kbd>&#x21E7; Shift</kbd>, and press <kbd>&#x21E5; Tab</kbd>;\n",
    "- you can find the full documentation at [PyEMMA.org](http://www.pyemma.org)."
   ]
  },
  {
   "cell_type": "code",
   "execution_count": null,
   "metadata": {},
   "outputs": [],
   "source": [
    "%matplotlib inline\n",
    "import matplotlib.pyplot as plt\n",
    "import matplotlib as mpl\n",
    "import numpy as np\n",
    "import mdshare\n",
    "from tqdm.notebook import tqdm\n",
    "import pyemma"
   ]
  },
  {
   "cell_type": "markdown",
   "metadata": {},
   "source": [
    "## Case 1: preprocessed, two-dimensional data (toy model)\n",
    "We load the two-dimensional trajectory from an archive using numpy,\n",
    "directly discretize the full space using $k$-means clustering,\n",
    "visualize the marginal and joint distributions of both components as well as the cluster centers,\n",
    "and show the implied timescale (ITS) convergence:"
   ]
  },
  {
   "cell_type": "code",
   "execution_count": null,
   "metadata": {},
   "outputs": [],
   "source": [
    "from deeptime.clustering import KMeans\n",
    "from deeptime.markov.msm import MaximumLikelihoodMSM\n",
    "from deeptime.plots import plot_implied_timescales\n",
    "from deeptime.util.validation import implied_timescales\n",
    "\n",
    "file = mdshare.fetch('hmm-doublewell-2d-100k.npz', working_directory='data')\n",
    "with np.load(file) as fh:\n",
    "    data = fh['trajectory']\n",
    "\n",
    "cluster = KMeans(50).fit_fetch(data)\n",
    "dtraj = cluster.transform(data)\n",
    "\n",
    "models = []\n",
    "for lag in [1, 2, 3, 5, 7, 10]:\n",
    "    models.append(MaximumLikelihoodMSM(lagtime=lag).fit_fetch(dtraj))\n",
    "\n",
    "fig, axes = plt.subplots(1, 3, figsize=(12, 3))\n",
    "pyemma.plots.plot_feature_histograms(data, feature_labels=['$x$', '$y$'], ax=axes[0])\n",
    "pyemma.plots.plot_density(*data.T, ax=axes[1], cbar=False, alpha=0.1)\n",
    "axes[1].scatter(*cluster.cluster_centers.T, s=15, c='C1')\n",
    "axes[1].set_xlabel('$x$')\n",
    "axes[1].set_ylabel('$y$')\n",
    "axes[1].set_xlim(-4, 4)\n",
    "axes[1].set_ylim(-4, 4)\n",
    "axes[1].set_aspect('equal')\n",
    "plot_implied_timescales(implied_timescales(models), ax=axes[2], n_its=4)\n",
    "fig.tight_layout()"
   ]
  },
  {
   "cell_type": "markdown",
   "metadata": {},
   "source": [
    "The plots show us the marginal (left panel) and joint distributions along with the cluster centers (middle panel).\n",
    "The implied timescales are converged (right panel). \n",
    "\n",
    "Before we proceed, let's have a look at the implied timescales error bars.\n",
    "They were computed from a Bayesian MSM, as requested by the `bayesian='True'` argument of the `implied_timescales_msm()` function.\n",
    "\n",
    "As mentioned before, Bayesian MSMs incorporate a sample of transition matrices.\n",
    "Target properties such as implied timescales can now simply be computed from the individual matrices.\n",
    "Thereby, the posterior distributions of these properties can be estimated.\n",
    "The ITS plot shows an interval that contains $95\\%$ of the Bayesian samples."
   ]
  },
  {
   "cell_type": "code",
   "execution_count": null,
   "metadata": {},
   "outputs": [],
   "source": [
    "from deeptime.markov import TransitionCountEstimator\n",
    "from deeptime.markov.msm import BayesianMSM\n",
    "\n",
    "counts = TransitionCountEstimator(lagtime=1, count_mode=\"effective\").fit_fetch(dtraj)\n",
    "bayesian_msm = BayesianMSM().fit_fetch(counts)"
   ]
  },
  {
   "cell_type": "markdown",
   "metadata": {},
   "source": [
    "For any PyEMMA method that derives target properties from MSMs, sample mean and confidence intervals (as defined by the function argument above) are directly accessible with  `mean` and `L` / `R`.\n",
    "Further, `std` is available for computing the standard deviation.\n",
    "\n",
    "In the more general case, it might be interesting to extract the full sample of a function evaluation with `evaluate_samples()`.\n",
    "The syntax is equivalent for all those functions."
   ]
  },
  {
   "cell_type": "code",
   "execution_count": null,
   "metadata": {},
   "outputs": [],
   "source": [
    "sample_stats = bayesian_msm.gather_stats('timescales', k=1)\n",
    "\n",
    "print(f'Mean of first ITS: {sample_stats.mean} ± {sample_stats.std}')\n",
    "print(f'Confidence interval: [{sample_stats.L}, {sample_stats.R}]')"
   ]
  },
  {
   "cell_type": "markdown",
   "metadata": {},
   "source": [
    "Please note that sample mean and maximum likelihood estimates are not identical and generally do not provide numerically identical results.\n",
    "\n",
    "Now, for the sake of simplicity we proceed with the analysis of a maximum likelihood MSM.\n",
    "We estimate it at lag time $1$ step..."
   ]
  },
  {
   "cell_type": "code",
   "execution_count": null,
   "metadata": {},
   "outputs": [],
   "source": [
    "msm_estimator = MaximumLikelihoodMSM(lagtime=1)\n",
    "msm = msm_estimator.fit_fetch(dtraj)"
   ]
  },
  {
   "cell_type": "markdown",
   "metadata": {},
   "source": [
    "... and check for disconnectivity.\n",
    "The MSM is constructed on the largest set of discrete states that are (reversibly) connected.\n",
    "The `active_state_fraction` and `active_count_fraction` show us the fraction of discrete states and transition counts from our data which are part of this largest set and, thus, used for the model:"
   ]
  },
  {
   "cell_type": "code",
   "execution_count": null,
   "metadata": {},
   "outputs": [],
   "source": [
    "print('fraction of states used = {:f}'.format(msm.state_fraction))\n",
    "print('fraction of counts used = {:f}'.format(msm.count_fraction))"
   ]
  },
  {
   "cell_type": "markdown",
   "metadata": {},
   "source": [
    "The fraction is, in both cases, $1$ and, thus, we have no disconnected states (which we would have to exclude from our analysis).\n",
    "\n",
    "If there were any disconnectivities in our data (fractions $<1$),\n",
    "we could access the indices of the **active states** (members of the largest connected set) via the `state_symbols` attribute:"
   ]
  },
  {
   "cell_type": "code",
   "execution_count": null,
   "metadata": {},
   "outputs": [],
   "source": [
    "print(msm.count_model.state_symbols)"
   ]
  },
  {
   "cell_type": "markdown",
   "metadata": {},
   "source": [
    "With this potential issue out of the way, we can extract our first (stationary/thermodynamic) property,\n",
    "the `stationary_distribution`:"
   ]
  },
  {
   "cell_type": "code",
   "execution_count": null,
   "metadata": {},
   "outputs": [],
   "source": [
    "print(msm.stationary_distribution)\n",
    "print('sum of weights = {:f}'.format(msm.stationary_distribution.sum()))"
   ]
  },
  {
   "cell_type": "markdown",
   "metadata": {},
   "source": [
    "The attribute `msm.stationary_distribution` tells us, for each discrete state, the absolute probability of observing said state in global equilibrium.\n",
    "Mathematically speaking, the stationary distribution $\\pi$ is the left eigenvector of the transition matrix $\\mathbf{P}$ to the eigenvalue $1$:\n",
    "\n",
    "$$\\pi^\\top \\mathbf{P} = \\pi^\\top.$$\n",
    "\n",
    "Please note that the $\\pi$ is fundamentaly different from a normalized histogram of states:\n",
    "for the histogram of states to accurately describe the stationary distribution, the data needs to be sampled from global equilibrium, i.e, the data points need to be statistically independent.\n",
    "The MSM approach, on the other hand, only requires local equilibrium, i.e., statistical independence of state transitions.\n",
    "Thus, the MSM approach requires a much weaker and, in practice, much easier to satisfy condition than simply counting state visits.\n",
    "\n",
    "We can use the stationary distribution to, e.g., visualize the weight of the dicrete states and, thus, to highlight which areas of our feature space are most probable.\n",
    "Here, we show all data points in a two dimensional scatter plot and color/weight them according to their discrete state membership:"
   ]
  },
  {
   "cell_type": "code",
   "execution_count": null,
   "metadata": {},
   "outputs": [],
   "source": [
    "fig, ax, misc = pyemma.plots.plot_contour(\n",
    "    *data.T, msm.stationary_distribution[dtraj],\n",
    "    cbar_label='stationary distribution',\n",
    "    method='nearest', mask=True)\n",
    "ax.scatter(*cluster.cluster_centers.T, s=15, c='C1')\n",
    "ax.set_xlabel('$x$')\n",
    "ax.set_ylabel('$y$')\n",
    "ax.set_xlim(-4, 4)\n",
    "ax.set_ylim(-4, 4)\n",
    "ax.set_aspect('equal')\n",
    "fig.tight_layout()"
   ]
  },
  {
   "cell_type": "markdown",
   "metadata": {},
   "source": [
    "The stationary distribution can also be used to correct the `pyemma.plots.plot_free_energy()` function that we used to visualize this dataset.\n",
    "This might be necessary if the data points are not sampled from global equilibrium.\n",
    "\n",
    "In this case, we assign the weight of the corresponding discrete state to each data point and pass this information to the plotting function via its `weights` parameter:"
   ]
  },
  {
   "cell_type": "code",
   "execution_count": null,
   "metadata": {},
   "outputs": [],
   "source": [
    "fig, ax, misc = pyemma.plots.plot_free_energy(\n",
    "    *data.T,\n",
    "    weights=np.concatenate(msm.compute_trajectory_weights(dtraj)),\n",
    "    legacy=False)\n",
    "ax.set_xlabel('$x$')\n",
    "ax.set_ylabel('$y$')\n",
    "ax.set_xlim(-4, 4)\n",
    "ax.set_ylim(-4, 4)\n",
    "ax.set_aspect('equal')\n",
    "fig.tight_layout()"
   ]
  },
  {
   "cell_type": "markdown",
   "metadata": {},
   "source": [
    "We will see further uses of the stationary distribution later.\n",
    "But for now, we continue the analysis of our model by visualizing its (right) eigenvectors which encode the dynamical processes.\n",
    "First, we notice that the first right eigenvector is a constant $1$."
   ]
  },
  {
   "cell_type": "code",
   "execution_count": null,
   "metadata": {},
   "outputs": [],
   "source": [
    "eigvec = msm.eigenvectors_right()\n",
    "print('first eigenvector is one: {} (min={}, max={})'.format(\n",
    "    np.allclose(eigvec[:, 0], 1, atol=1e-15), eigvec[:, 0].min(), eigvec[:, 0].max()))"
   ]
  },
  {
   "cell_type": "markdown",
   "metadata": {},
   "source": [
    "Second, the higher eigenvectors can be visualized as follows:"
   ]
  },
  {
   "cell_type": "code",
   "execution_count": null,
   "metadata": {},
   "outputs": [],
   "source": [
    "fig, axes = plt.subplots(1, 3, figsize=(12, 3))\n",
    "for i, ax in enumerate(axes.flat):\n",
    "    pyemma.plots.plot_contour(\n",
    "        *data.T, eigvec[dtraj, i + 1], ax=ax, cmap='PiYG',\n",
    "        cbar_label='{}. right eigenvector'.format(i + 2), mask=True)\n",
    "    ax.scatter(*cluster.cluster_centers.T, s=15, c='C1')\n",
    "    ax.set_xlabel('$x$')\n",
    "    ax.set_xlim(-4, 4)\n",
    "    ax.set_ylim(-4, 4)\n",
    "    ax.set_aspect('equal')\n",
    "axes[0].set_ylabel('$y$')\n",
    "fig.tight_layout()"
   ]
  },
  {
   "cell_type": "markdown",
   "metadata": {},
   "source": [
    "The right eigenvectors can be used to visualize the processes governed by the corresponding implied timescales.\n",
    "The first right eigenvector (always) is $(1,\\dots,1)^\\top$ for an MSM transition matrix and it corresponds to the stationary process (infinite implied timescale).\n",
    "\n",
    "The second right eigenvector corresponds to the slowest process;\n",
    "its entries are negative for one group of discrete states and positive for the other group.\n",
    "This tells us that the slowest process happens between these two groups and that the process relaxes on the slowest ITS ($\\approx 8.5$ steps).\n",
    "\n",
    "The third and fourth eigenvectors show a larger spread of values and no clear grouping.\n",
    "In combination with the ITS convergence plot, we can safely assume that these eigenvectors contain just noise and do not indicate any resolved processes.\n",
    "\n",
    "We then continue to validate our MSM with a CK test for $2$ metastable states which are already indicated by the second right eigenvector."
   ]
  },
  {
   "cell_type": "code",
   "execution_count": null,
   "metadata": {},
   "outputs": [],
   "source": [
    "nstates = 2\n",
    "\n",
    "models = [MaximumLikelihoodMSM(lagtime=lag).fit_fetch(dtraj) for lag in range(2, 10)]\n",
    "ck_test = msm.ck_test(models, n_metastable_sets=nstates)\n",
    "\n",
    "from deeptime.plots import plot_ck_test\n",
    "plot_ck_test(ck_test);"
   ]
  },
  {
   "cell_type": "markdown",
   "metadata": {},
   "source": [
    "We now save the model to do more analyses with PCCA++ and TPT in the next tutorial."
   ]
  },
  {
   "cell_type": "code",
   "execution_count": null,
   "metadata": {},
   "outputs": [],
   "source": [
    "import pickle\n",
    "\n",
    "with open(\"nb4_cluster.pkl\", \"wb\") as f:\n",
    "    pickle.dump(cluster, f)\n",
    "with open(\"nb4_msm.pkl\", \"wb\") as f:\n",
    "    pickle.dump(msm, f)\n",
    "with open(\"nb4_bmsm.pkl\", \"wb\") as f:\n",
    "    pickle.dump(bayesian_msm, f)"
   ]
  },
  {
   "cell_type": "markdown",
   "metadata": {},
   "source": [
    "## Case 2: low-dimensional molecular dynamics data (alanine dipeptide)\n",
    "\n",
    "We fetch the alanine dipeptide data set, load the backbone torsions into memory,\n",
    "directly discretize the full space using $k$-means clustering,\n",
    "visualize the margial and joint distributions of both components as well as the cluster centers,\n",
    "and show the ITS convergence to help selecting a suitable lag time:"
   ]
  },
  {
   "cell_type": "code",
   "execution_count": null,
   "metadata": {},
   "outputs": [],
   "source": [
    "pdb = mdshare.fetch('alanine-dipeptide-nowater.pdb', working_directory='data')\n",
    "files = mdshare.fetch('alanine-dipeptide-*-250ns-nowater.xtc', working_directory='data')\n",
    "\n",
    "feat = pyemma.coordinates.featurizer(pdb)\n",
    "feat.add_backbone_torsions(periodic=False)\n",
    "data = pyemma.coordinates.load(files, features=feat)\n",
    "\n",
    "cluster = KMeans(100).fit_fetch(np.concatenate(data))\n",
    "dtrajs = [cluster.transform(traj) for traj in data]\n",
    "\n",
    "lags = [1, 2, 5, 10, 20, 50]\n",
    "its = implied_timescales([MaximumLikelihoodMSM(lagtime=lag).fit_fetch(dtrajs) for lag in lags])\n",
    "\n",
    "fig, axes = plt.subplots(1, 3, figsize=(12, 3))\n",
    "pyemma.plots.plot_feature_histograms(\n",
    "    np.concatenate(data), feature_labels=['$\\Phi$', '$\\Psi$'], ax=axes[0])\n",
    "pyemma.plots.plot_density(*np.concatenate(data).T, ax=axes[1], cbar=False, alpha=0.1)\n",
    "axes[1].scatter(*cluster.cluster_centers.T, s=15, c='C1')\n",
    "axes[1].set_xlabel('$\\Phi$')\n",
    "axes[1].set_ylabel('$\\Psi$')\n",
    "plot_implied_timescales(its, ax=axes[2], n_its=4)\n",
    "axes[2].set_yscale('log')\n",
    "axes[2].set_xlabel('lagtime (ps)')\n",
    "fig.tight_layout()"
   ]
  },
  {
   "cell_type": "markdown",
   "metadata": {},
   "source": [
    "The plots show us the marginal (left panel) and joint distributions along with the cluster centers (middle panel).\n",
    "The implied timescales are converged (right panel). \n",
    "\n",
    "We then estimate an MSM at lag time $10$ ps and visualize the stationary distribution by coloring all data points according to the stationary weight of the discrete state they belong to:"
   ]
  },
  {
   "cell_type": "code",
   "execution_count": null,
   "metadata": {},
   "outputs": [],
   "source": [
    "msm = MaximumLikelihoodMSM(lagtime=10).fit_fetch(dtrajs)\n",
    "\n",
    "print('fraction of states used = {:f}'.format(msm.state_fraction))\n",
    "print('fraction of counts used = {:f}'.format(msm.count_fraction))\n",
    "\n",
    "fig, ax, misc = pyemma.plots.plot_contour(\n",
    "    *np.concatenate(data).T, msm.stationary_distribution[np.concatenate(dtrajs)],\n",
    "    cbar_label='stationary_distribution',\n",
    "    method='nearest', mask=True)\n",
    "ax.scatter(*cluster.cluster_centers.T, s=15, c='C1')\n",
    "ax.set_xlabel('$\\Phi$')\n",
    "ax.set_ylabel('$\\Psi$')\n",
    "fig.tight_layout()"
   ]
  },
  {
   "cell_type": "markdown",
   "metadata": {},
   "source": [
    "Next, we visualize the first six right eigenvectors:"
   ]
  },
  {
   "cell_type": "code",
   "execution_count": null,
   "metadata": {},
   "outputs": [],
   "source": [
    "eigvec = msm.eigenvectors_right()\n",
    "print('first eigenvector is one: {} (min={}, max={})'.format(\n",
    "    np.allclose(eigvec[:, 0], 1, atol=1e-15), eigvec[:, 0].min(), eigvec[:, 0].max()))\n",
    "\n",
    "fig, axes = plt.subplots(2, 3, figsize=(12, 6))\n",
    "for i, ax in enumerate(axes.flat):\n",
    "    pyemma.plots.plot_contour(\n",
    "        *np.concatenate(data).T, eigvec[np.concatenate(dtrajs), i + 1], ax=ax, cmap='PiYG',\n",
    "        cbar_label='{}. right eigenvector'.format(i + 2), mask=True)\n",
    "    ax.scatter(*cluster.cluster_centers.T, s=15, c='C1')\n",
    "    ax.set_xlabel('$\\Phi$')\n",
    "    ax.set_ylabel('$\\Psi$')\n",
    "fig.tight_layout()"
   ]
  },
  {
   "cell_type": "markdown",
   "metadata": {},
   "source": [
    "Again, we have the $(1,\\dots,1)^\\top$ first right eigenvector of the stationary process.\n",
    "\n",
    "The second to fourth right eigenvectors illustrate the three slowest processes which are (in that order):\n",
    "\n",
    "- rotation of the $\\Phi$ dihedral,\n",
    "- rotation of the $\\Psi$ dihedral when $\\Phi\\approx-2$ rad, and\n",
    "- rotation of the $\\Psi$ dihedral when $\\Phi\\approx1$ rad.\n",
    "\n",
    "Eigenvectors five, six, and seven indicate further processes which, however, relax faster than the lag time and cannot be resolved clearly.\n",
    "\n",
    "We now proceed our validation process using a Bayesian MSM with four metastable states:"
   ]
  },
  {
   "cell_type": "code",
   "execution_count": null,
   "metadata": {},
   "outputs": [],
   "source": [
    "nstates = 4\n",
    "\n",
    "counts = TransitionCountEstimator(10, 'effective').fit_fetch(dtrajs)\n",
    "counts = counts.submodel_largest()\n",
    "bayesian_msm = BayesianMSM().fit_fetch(counts)\n",
    "ck_test_bmsms = [\n",
    "    BayesianMSM().fit_fetch(TransitionCountEstimator(lag, 'effective').fit_fetch(dtrajs).submodel_largest()) \n",
    "    for lag in tqdm([10*(i+1) for i in range(1, 10)])\n",
    "]\n",
    "ck_test = bayesian_msm.ck_test(ck_test_bmsms, nstates)\n",
    "plot_ck_test(ck_test, xlabel='lagtime (ps)', sharey=True);"
   ]
  },
  {
   "cell_type": "markdown",
   "metadata": {},
   "source": [
    "We note that four metastable states are a reasonable choice for our MSM.\n",
    "\n",
    "In general, the number of metastable states is a modeler's choice; it is adjusted to map the kinetics to be modeled.\n",
    "In the current example, increasing the resolution with a higher number of metastable states or resolving only the slowest process between $2$ states would be possible.\n",
    "However, the number of states is not arbitrary as the observed processes in metastable state space need not be Markovian in general.\n",
    "A failed Chapman-Kolmogorov test can thus also hint to a bad choice of the metastable state number.\n",
    "\n",
    "In order to perform further analysis, we save the model to disk:"
   ]
  },
  {
   "cell_type": "code",
   "execution_count": null,
   "metadata": {},
   "outputs": [],
   "source": [
    "with open('nb4_ala2_cluster.pkl', 'wb') as f:\n",
    "    pickle.dump(cluster, f)\n",
    "with open('nb4_ala2_msm.pkl', 'wb') as f:\n",
    "    pickle.dump(msm, f)\n",
    "with open('nb4_ala2_bayesian_msm.pkl', 'wb') as f:\n",
    "    pickle.dump(bayesian_msm, f)"
   ]
  },
  {
   "cell_type": "markdown",
   "metadata": {},
   "source": [
    "#### Exercise 1\n",
    "Load the heavy atom distances into memory, TICA (`lag=3` and `dim=2`), discretize with  100 $k$-means centers and a stride of $10$, and show the ITS convergence."
   ]
  },
  {
   "cell_type": "code",
   "execution_count": null,
   "metadata": {
    "solution2": "hidden",
    "solution2_first": true
   },
   "outputs": [],
   "source": [
    "feat = #FIXME\n",
    "feat. #FIXME\n",
    "data = #FIXME\n",
    "\n",
    "tica = #FIXME\n",
    "projected_data = # FIXME\n",
    "\n",
    "cluster = #FIXME\n",
    "dtrajs = #FIXME\n",
    "\n",
    "its_result = #FIXME\n",
    "\n",
    "fig, axes = plt.subplots(1, 3, figsize=(12, 3))\n",
    "pyemma.plots.plot_feature_histograms(np.concatenate(projected_data), \n",
    "                                     feature_labels=['IC 1', 'IC 2'], ax=axes[0])\n",
    "pyemma.plots.plot_density(*np.concatenate(projected_data).T, ax=axes[1], cbar=False, alpha=0.3)\n",
    "axes[1].scatter(*cluster.cluster_centers.T, s=15, c='C1')\n",
    "axes[1].set_xlabel('IC 1')\n",
    "axes[1].set_ylabel('IC 2')\n",
    "plot_implied_timescales(its_result, ax=axes[2])\n",
    "ax.set_xlabel('lagtime (ps)')\n",
    "ax.set_yscale('log')\n",
    "fig.tight_layout()"
   ]
  },
  {
   "cell_type": "markdown",
   "metadata": {
    "solution2": "hidden"
   },
   "source": [
    "###### Solution"
   ]
  },
  {
   "cell_type": "code",
   "execution_count": null,
   "metadata": {
    "solution2": "hidden"
   },
   "outputs": [],
   "source": [
    "feat = pyemma.coordinates.featurizer(pdb)\n",
    "pairs = feat.pairs(feat.select_Heavy())\n",
    "feat.add_distances(pairs, periodic=False)\n",
    "data = pyemma.coordinates.load(files, features=feat)\n",
    "\n",
    "from deeptime.decomposition import TICA\n",
    "tica_estimator = TICA(lagtime=3, dim=2)\n",
    "tica = tica_estimator.fit_fetch(data)\n",
    "\n",
    "projected_data = [tica.transform(traj) for traj in data]\n",
    "\n",
    "cluster = KMeans(100).fit_fetch(np.concatenate(projected_data))\n",
    "dtrajs = [cluster.transform(traj) for traj in projected_data]\n",
    "\n",
    "its_result = implied_timescales([\n",
    "    MaximumLikelihoodMSM(lagtime=lag).fit_fetch(dtrajs) for lag in [1, 2, 5, 10, 20, 50]\n",
    "])\n",
    "\n",
    "fig, axes = plt.subplots(1, 3, figsize=(12, 3))\n",
    "pyemma.plots.plot_feature_histograms(np.concatenate(projected_data), \n",
    "                                     feature_labels=['IC 1', 'IC 2'], ax=axes[0])\n",
    "pyemma.plots.plot_density(*np.concatenate(projected_data).T, ax=axes[1], cbar=False, alpha=0.3)\n",
    "axes[1].scatter(*cluster.cluster_centers.T, s=15, c='C1')\n",
    "axes[1].set_xlabel('IC 1')\n",
    "axes[1].set_ylabel('IC 2')\n",
    "plot_implied_timescales(its_result, ax=axes[2], n_its=4)\n",
    "axes[2].set_xlabel('lagtime (ps)')\n",
    "axes[2].set_yscale('log')\n",
    "fig.tight_layout()"
   ]
  },
  {
   "cell_type": "markdown",
   "metadata": {},
   "source": [
    "#### Exercise 2\n",
    "Estimate an MSM at lag time $10$ ps with `dt_traj='1 ps'` and visualize the stationary distribution using a two-dimensional colored scatter plot of all data points in TICA space."
   ]
  },
  {
   "cell_type": "code",
   "execution_count": null,
   "metadata": {
    "solution2": "hidden",
    "solution2_first": true
   },
   "outputs": [],
   "source": [
    "msm = #FIXME\n",
    "\n",
    "print('fraction of states used = {:f}'. #FIXME\n",
    "print('fraction of counts used = {:f}'. #FIXME\n",
    "\n",
    "fig, ax, misc = pyemma.plots.plot_contour(\n",
    "    *np.concatenate(projected_data).T, msm.stationary_distribution[np.concatenate(dtrajs)],\n",
    "    cbar_label='stationary_distribution',\n",
    "    method='nearest', mask=True)\n",
    "ax.scatter(*cluster.cluster_centers.T, s=15, c='C1')\n",
    "ax.set_xlabel('IC 1')\n",
    "ax.set_ylabel('IC 2')\n",
    "fig.tight_layout()"
   ]
  },
  {
   "cell_type": "markdown",
   "metadata": {
    "solution2": "hidden"
   },
   "source": [
    "###### Solution"
   ]
  },
  {
   "cell_type": "code",
   "execution_count": null,
   "metadata": {
    "solution2": "hidden"
   },
   "outputs": [],
   "source": [
    "msm = MaximumLikelihoodMSM(lagtime=10).fit_fetch(dtrajs)\n",
    "\n",
    "print('fraction of states used = {:f}'.format(msm.state_fraction))\n",
    "print('fraction of counts used = {:f}'.format(msm.count_fraction))\n",
    "\n",
    "fig, ax, misc = pyemma.plots.plot_contour(\n",
    "    *np.concatenate(projected_data).T, msm.stationary_distribution[np.concatenate(dtrajs)],\n",
    "    cbar_label='stationary_distribution',\n",
    "    method='nearest', mask=True)\n",
    "ax.scatter(*cluster.cluster_centers.T, s=15, c='C1')\n",
    "ax.set_xlabel('IC 1')\n",
    "ax.set_ylabel('IC 2')\n",
    "fig.tight_layout()"
   ]
  },
  {
   "cell_type": "markdown",
   "metadata": {},
   "source": [
    "#### Exercise 3\n",
    "Visualize the first six right eigenvectors."
   ]
  },
  {
   "cell_type": "code",
   "execution_count": null,
   "metadata": {
    "solution2": "hidden",
    "solution2_first": true
   },
   "outputs": [],
   "source": [
    "eigvec = #FIXME\n",
    "print('first eigenvector is one: {} (min={}, max={})'.format( #FIXME\n",
    "\n",
    "fig, axes = plt.subplots(2, 3, figsize=(12, 6))\n",
    "for i, ax in enumerate(axes.flat):\n",
    "    pyemma.plots.plot_contour(\n",
    "        *np.concatenate(projected_data).T, eigvec[np.concatenate(dtrajs), i + 1], ax=ax, cmap='PiYG',\n",
    "        cbar_label='{}. right eigenvector'.format(i + 2), mask=True)\n",
    "    ax.scatter(*cluster.cluster_centers.T, s=15, c='C1')\n",
    "    ax.set_xlabel('IC 1')\n",
    "    ax.set_ylabel('IC 2')\n",
    "fig.tight_layout()"
   ]
  },
  {
   "cell_type": "markdown",
   "metadata": {
    "solution2": "hidden"
   },
   "source": [
    "###### Solution"
   ]
  },
  {
   "cell_type": "code",
   "execution_count": null,
   "metadata": {
    "solution2": "hidden"
   },
   "outputs": [],
   "source": [
    "eigvec = msm.eigenvectors_right()\n",
    "print('first eigenvector is one: {} (min={}, max={})'.format(\n",
    "    np.allclose(eigvec[:, 0], 1, atol=1e-15), eigvec[:, 0].min(), eigvec[:, 0].max()))\n",
    "\n",
    "fig, axes = plt.subplots(2, 3, figsize=(12, 6))\n",
    "for i, ax in enumerate(axes.flat):\n",
    "    pyemma.plots.plot_contour(\n",
    "        *np.concatenate(projected_data).T, eigvec[np.concatenate(dtrajs), i + 1], ax=ax, cmap='PiYG',\n",
    "        cbar_label='{}. right eigenvector'.format(i + 2), mask=True)\n",
    "    ax.scatter(*cluster.cluster_centers.T, s=15, c='C1')\n",
    "    ax.set_xlabel('IC 1')\n",
    "    ax.set_ylabel('IC 2')\n",
    "fig.tight_layout()"
   ]
  },
  {
   "cell_type": "markdown",
   "metadata": {},
   "source": [
    "Can you already guess from eigenvectors two to four which the metastable states are?\n",
    "\n",
    "#### Exercise 4\n",
    "Estimate a Bayesian MSM at lag time $10$ ps and perform/show a CK test for four metastable states."
   ]
  },
  {
   "cell_type": "code",
   "execution_count": null,
   "metadata": {
    "solution2": "hidden",
    "solution2_first": true
   },
   "outputs": [],
   "source": [
    "bayesian_msm = #FIXME\n",
    "\n",
    "nstates = 4\n",
    "pyemma.plots. #FIXME"
   ]
  },
  {
   "cell_type": "markdown",
   "metadata": {
    "solution2": "hidden"
   },
   "source": [
    "###### Solution"
   ]
  },
  {
   "cell_type": "code",
   "execution_count": null,
   "metadata": {},
   "outputs": [],
   "source": [
    "counts = TransitionCountEstimator(10, 'effective').fit_fetch(dtrajs).submodel_largest()\n",
    "bayesian_msm_estimator = BayesianMSM()\n",
    "bayesian_msm = bayesian_msm_estimator.fit_fetch(counts.submodel_largest())\n",
    "\n",
    "nstates = 4\n",
    "bmsms = [\n",
    "    BayesianMSM().fit_fetch(TransitionCountEstimator(lag, 'effective').fit_fetch(dtrajs).submodel_largest())\n",
    "    for lag in tqdm(np.linspace(bayesian_msm.lagtime+1, 100, num=10, dtype=int))\n",
    "]\n",
    "\n",
    "ck_test = bayesian_msm.ck_test(bmsms, nstates)\n",
    "plot_ck_test(ck_test, sharey=True, xlabel='lagtime (ps)');"
   ]
  },
  {
   "cell_type": "markdown",
   "metadata": {},
   "source": [
    "#### Exercise 5\n",
    "Save the MSM, Bayesian MSM and Cluster objects to the same file as before.\n",
    "Use the model names `ala2tica_msm`, `ala2tica_bayesian_msm` and `ala2tica_cluster`, respectively.\n",
    "Further, include the TICA object with model name `ala2tica_tica`."
   ]
  },
  {
   "cell_type": "code",
   "execution_count": null,
   "metadata": {
    "solution2": "hidden",
    "solution2_first": true
   },
   "outputs": [],
   "source": [
    "#FIXME "
   ]
  },
  {
   "cell_type": "markdown",
   "metadata": {
    "solution2": "hidden"
   },
   "source": [
    "###### Solution"
   ]
  },
  {
   "cell_type": "code",
   "execution_count": null,
   "metadata": {
    "solution2": "hidden"
   },
   "outputs": [],
   "source": [
    "with open('nb4_ala2tica_cluster.pkl', 'wb') as f:\n",
    "    pickle.dump(cluster, f)\n",
    "with open('nb4_ala2tica_msm.pkl', 'wb') as f:\n",
    "    pickle.dump(msm, f)\n",
    "with open('nb4_ala2tica_bayesian_msm.pkl', 'wb') as f:\n",
    "    pickle.dump(bayesian_msm, f)\n",
    "with open('nb4_ala2tica_tica.pkl', 'wb') as f:\n",
    "    pickle.dump(tica, f)"
   ]
  },
  {
   "cell_type": "markdown",
   "metadata": {},
   "source": [
    "## Wrapping up\n",
    "In this notebook, we have learned how to analyze an MSM and how to extract kinetic information from the model. \n",
    "\n",
    "In detail, we have used\n",
    "- the `state_fraction`, `count_fraction`, and `count_model.state_symbols` attributes of an MSM object to see how much (and which parts) of our data form the largest connected set represented by the MSM,\n",
    "- the `stationary_distribution` attribute of an MSM object to access its stationary vector,\n",
    "- the `eigenvectors_right()` method of an MSM object to access its (right) eigenvectors,\n",
    "\n",
    "For visualizing MSMs or kinetic networks we used\n",
    "- `pyemma.plots.plot_density()`\n",
    "- `pyemma.plots.plot_contour()` and\n",
    "- `pyemma.plots.plot_cktest()`."
   ]
  }
 ],
 "metadata": {
  "kernelspec": {
   "display_name": "Python 3 (ipykernel)",
   "language": "python",
   "name": "python3"
  },
  "language_info": {
   "codemirror_mode": {
    "name": "ipython",
    "version": 3
   },
   "file_extension": ".py",
   "mimetype": "text/x-python",
   "name": "python",
   "nbconvert_exporter": "python",
   "pygments_lexer": "ipython3",
   "version": "3.9.10"
  },
  "toc": {
   "base_numbering": 1,
   "nav_menu": {},
   "number_sections": false,
   "sideBar": true,
   "skip_h1_title": true,
   "title_cell": "Table of Contents",
   "title_sidebar": "Contents",
   "toc_cell": false,
   "toc_position": {},
   "toc_section_display": true,
   "toc_window_display": true
  }
 },
 "nbformat": 4,
 "nbformat_minor": 2
}
