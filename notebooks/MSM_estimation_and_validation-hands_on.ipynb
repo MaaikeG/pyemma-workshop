{
 "cells": [
  {
   "cell_type": "code",
   "execution_count": null,
   "metadata": {},
   "outputs": [],
   "source": [
    "import matplotlib.pyplot as plt\n",
    "%matplotlib inline\n",
    "import numpy as np\n",
    "import mdshare\n",
    "import pyemma"
   ]
  },
  {
   "cell_type": "markdown",
   "metadata": {},
   "source": [
    "## MSM estimation and validation - exercises"
   ]
  },
  {
   "cell_type": "markdown",
   "metadata": {},
   "source": [
    "First we need to get the file names for the toplogy file and the trajectories. Please execute the cell below."
   ]
  },
  {
   "cell_type": "code",
   "execution_count": null,
   "metadata": {},
   "outputs": [],
   "source": [
    "pdb = mdshare.fetch('alanine-dipeptide-nowater.pdb', working_directory='data')\n",
    "files = mdshare.fetch('alanine-dipeptide-*-250ns-nowater.xtc', working_directory='data')"
   ]
  },
  {
   "cell_type": "markdown",
   "metadata": {},
   "source": [
    "#### Exercise 1\n",
    "\n",
    "Load the heavy atom distances into memory, perform PCA and TICA (`lag=3`) with `dim=2`,\n",
    "then discretize with $100$ $k$-means centers and a stride of $10$. Compare the two discretizations be generating implied timescale plots for both of them."
   ]
  },
  {
   "cell_type": "code",
   "execution_count": null,
   "metadata": {
    "solution2": "hidden",
    "solution2_first": true
   },
   "outputs": [],
   "source": [
    "feat =  #FIXME\n",
    "feat. #FIXME\n",
    "data =  #FIXME\n",
    "\n",
    "pca = pyemma.coordinates.pca(data, dim=2)\n",
    "tica = #FIXME\n",
    "\n",
    "pca_concatenated = np.concatenate(pca.get_output())\n",
    "tica_concatenated = #FIXME\n",
    "\n",
    "cls_pca = pyemma.coordinates.cluster_kmeans(pca, k=100, max_iter=50, stride=10)\n",
    "cls_tica = #FIXME\n",
    "\n",
    "its_pca = pyemma.msm.its(\n",
    "    cls_pca.dtrajs, lags=[1, 2, 5, 10, 20, 50], nits=4, errors='bayes')\n",
    "its_tica = #FIXME"
   ]
  },
  {
   "cell_type": "markdown",
   "metadata": {
    "solution2": "hidden"
   },
   "source": [
    "###### Solution"
   ]
  },
  {
   "cell_type": "code",
   "execution_count": null,
   "metadata": {
    "solution2": "hidden"
   },
   "outputs": [],
   "source": [
    "feat = pyemma.coordinates.featurizer(pdb)\n",
    "pairs = feat.pairs(feat.select_Heavy())\n",
    "feat.add_distances(pairs, periodic=False)\n",
    "data = pyemma.coordinates.load(files, features=feat)\n",
    "\n",
    "pca = pyemma.coordinates.pca(data, dim=2)\n",
    "tica = pyemma.coordinates.tica(data, lag=3, dim=2)\n",
    "\n",
    "pca_concatenated = np.concatenate(pca.get_output())\n",
    "tica_concatenated = np.concatenate(tica.get_output())\n",
    "\n",
    "cls_pca = pyemma.coordinates.cluster_kmeans(pca, k=100, max_iter=50, stride=10)\n",
    "cls_tica = pyemma.coordinates.cluster_kmeans(tica, k=100, max_iter=50, stride=10)\n",
    "\n",
    "its_pca = pyemma.msm.its(\n",
    "    cls_pca.dtrajs, lags=[1, 2, 5, 10, 20, 50], nits=4, errors='bayes')\n",
    "its_tica = pyemma.msm.its(\n",
    "    cls_tica.dtrajs, lags=[1, 2, 5, 10, 20, 50], nits=4, errors='bayes')"
   ]
  },
  {
   "cell_type": "markdown",
   "metadata": {},
   "source": [
    "Let's visualize the ITS convergence for both projections:"
   ]
  },
  {
   "cell_type": "code",
   "execution_count": null,
   "metadata": {},
   "outputs": [],
   "source": [
    "fig, axes = plt.subplots(2, 3, figsize=(12, 6))\n",
    "pyemma.plots.plot_feature_histograms(pca_concatenated, ax=axes[0, 0])\n",
    "pyemma.plots.plot_feature_histograms(tica_concatenated, ax=axes[1, 0])\n",
    "axes[0, 0].set_title('PCA')\n",
    "axes[1, 0].set_title('TICA')\n",
    "pyemma.plots.plot_density(*pca_concatenated.T, ax=axes[0, 1], cbar=False, alpha=0.1)\n",
    "axes[0, 1].scatter(*cls_pca.clustercenters.T, s=15, c='C1')\n",
    "axes[0, 1].set_xlabel('PC 1')\n",
    "axes[0, 1].set_ylabel('PC 2')\n",
    "pyemma.plots.plot_density(*tica_concatenated.T, ax=axes[1, 1], cbar=False, alpha=0.1)\n",
    "axes[1, 1].scatter(*cls_tica.clustercenters.T, s=15, c='C1')\n",
    "axes[1, 1].set_xlabel('IC 1')\n",
    "axes[1, 1].set_ylabel('IC 2')\n",
    "pyemma.plots.plot_implied_timescales(its_pca, ax=axes[0, 2], units='ps')\n",
    "pyemma.plots.plot_implied_timescales(its_tica, ax=axes[1, 2], units='ps')\n",
    "axes[0, 2].set_ylim(1, 2000)\n",
    "axes[1, 2].set_ylim(1, 2000)\n",
    "fig.tight_layout()"
   ]
  },
  {
   "cell_type": "markdown",
   "metadata": {},
   "source": [
    "Despite the fact that PCA yields a projection with some defined basins,\n",
    "the ITS plot shows that only one \"slow\" process is resolved which is more than one order of magnitude too fast.\n",
    "\n",
    "TICA does find three slow processes which agree (in terms of the implied timescales) with the backbone torsions example above.\n",
    "\n",
    "We conclude that this PCA projection is not suitable to resolve the slow dynamics of alanine dipeptide and we will continue to estimate/validate the TICA-based projection.\n",
    "\n",
    "#### Exercise 2\n",
    "\n",
    "Estimate a Bayesian MSM at lag time $10$ ps and perform/show a CK test for four metastable states."
   ]
  },
  {
   "cell_type": "code",
   "execution_count": null,
   "metadata": {
    "solution2": "hidden",
    "solution2_first": true
   },
   "outputs": [],
   "source": [
    "bayesian_msm = pyemma.msm.bayesian_markov_model(cls_tica.dtrajs, lag=10, dt_traj='1 ps')\n",
    "pyemma.plots. #FIXME"
   ]
  },
  {
   "cell_type": "markdown",
   "metadata": {
    "solution2": "hidden"
   },
   "source": [
    "###### Solution"
   ]
  },
  {
   "cell_type": "code",
   "execution_count": null,
   "metadata": {
    "solution2": "hidden"
   },
   "outputs": [],
   "source": [
    "bayesian_msm = pyemma.msm.bayesian_markov_model(cls_tica.dtrajs, lag=10, dt_traj='1 ps')\n",
    "pyemma.plots.plot_cktest(bayesian_msm.cktest(4), units='ps');"
   ]
  },
  {
   "cell_type": "markdown",
   "metadata": {},
   "source": [
    "We again see a good agreement between model prediction and re-estimation.\n",
    "\n",
    "## Wrapping up\n",
    "In this notebook, we have learned how to estimate a regular or Bayesian MSM from discretized molecular simulation data with `pyemma` and how to perform basic model validation.\n",
    "In detail, we have selected a suitable lag time by using\n",
    "- `pyemma.msm.its()` to obtain an implied timescale object and\n",
    "- `pyemma.plots.plot_implied_timescales()` to visualize the convergence of the implied timescales.\n",
    "\n",
    "We then have used\n",
    "- `pyemma.msm.estimate_markov_model()` to estimate a regular MSM,\n",
    "- `pyemma.msm.bayesian_markov_model()` to estimate a Bayesian MSM,\n",
    "- the `timescales()` method of an estimated MSM object to access its implied timescales,\n",
    "- the `cktest()` method of an estimated MSM object to perform a Chapman-Kolmogorow test, and\n",
    "- `pyemma.plots.plot_cktest()` to visualize the latter."
   ]
  },
  {
   "cell_type": "code",
   "execution_count": null,
   "metadata": {},
   "outputs": [],
   "source": []
  }
 ],
 "metadata": {
  "kernelspec": {
   "display_name": "Python 3",
   "language": "python",
   "name": "python3"
  },
  "language_info": {
   "codemirror_mode": {
    "name": "ipython",
    "version": 3
   },
   "file_extension": ".py",
   "mimetype": "text/x-python",
   "name": "python",
   "nbconvert_exporter": "python",
   "pygments_lexer": "ipython3",
   "version": "3.6.7"
  },
  "toc": {
   "base_numbering": 1,
   "nav_menu": {},
   "number_sections": true,
   "sideBar": true,
   "skip_h1_title": false,
   "title_cell": "Table of Contents",
   "title_sidebar": "Contents",
   "toc_cell": false,
   "toc_position": {},
   "toc_section_display": true,
   "toc_window_display": false
  }
 },
 "nbformat": 4,
 "nbformat_minor": 2
}
