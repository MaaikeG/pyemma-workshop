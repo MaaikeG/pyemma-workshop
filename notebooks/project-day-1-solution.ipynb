{
 "cells": [
  {
   "cell_type": "markdown",
   "metadata": {},
   "source": [
    "# Mini project I\n",
    "\n",
    "Content:\n",
    "- I/O\n",
    "- Featurisation\n",
    "- Dimension reduction\n",
    "- MSM estimation\n",
    "- MSM validation"
   ]
  },
  {
   "cell_type": "code",
   "execution_count": null,
   "metadata": {},
   "outputs": [],
   "source": [
    "%matplotlib inline\n",
    "import matplotlib.pyplot as plt\n",
    "import numpy as np\n",
    "import mdshare\n",
    "import pyemma\n",
    "import deeptime as dt\n",
    "from timescales import implied_timescales_msm"
   ]
  },
  {
   "cell_type": "code",
   "execution_count": null,
   "metadata": {},
   "outputs": [],
   "source": [
    "pdb = mdshare.fetch('pentapeptide-impl-solv.pdb', working_directory='data')\n",
    "files = mdshare.fetch('pentapeptide-*-500ns-impl-solv.xtc', working_directory='data')"
   ]
  },
  {
   "cell_type": "markdown",
   "metadata": {},
   "source": [
    "## I/O, featurisation\n",
    "\n",
    "Load two different molecular features:\n",
    "- backbone torsions (with `cossin=True` and `periodic=False`)\n",
    "- backbone atom positions (with `periodic=False`)"
   ]
  },
  {
   "cell_type": "code",
   "execution_count": null,
   "metadata": {},
   "outputs": [],
   "source": [
    "torsions_feat = pyemma.coordinates.featurizer(pdb)\n",
    "torsions_feat.add_backbone_torsions(cossin=True, periodic=False)\n",
    "torsions_data = pyemma.coordinates.load(files, features=torsions_feat)\n",
    "\n",
    "positions_feat = pyemma.coordinates.featurizer(pdb)\n",
    "positions_feat.add_selection(positions_feat.select_Backbone())\n",
    "positions_data = pyemma.coordinates.load(files, features=positions_feat)"
   ]
  },
  {
   "cell_type": "markdown",
   "metadata": {},
   "source": [
    "Compute VAMP scores for each molecular feature at a lag time of five steps and a dimensionality of four:"
   ]
  },
  {
   "cell_type": "code",
   "execution_count": null,
   "metadata": {},
   "outputs": [],
   "source": [
    "tica_estimator = dt.decomposition.TICA(lagtime=5, dim=4)\n",
    "torsions_scores = dt.decomposition.vamp_score_cv(tica_estimator, torsions_data, lagtime=500)\n",
    "print(f'Torsions:  {np.mean(torsions_scores):.2f}±{np.std(torsions_scores):.2f}')\n",
    "\n",
    "positions_scores = dt.decomposition.vamp_score_cv(tica_estimator, positions_data, lagtime=500)\n",
    "print(f'Positions: {np.mean(positions_scores):.2f}±{np.std(positions_scores):.2f}')"
   ]
  },
  {
   "cell_type": "markdown",
   "metadata": {},
   "source": [
    "Perform a dimension reduction of the torsion data with TICA at a lag time of five steps and four independent components:"
   ]
  },
  {
   "cell_type": "code",
   "execution_count": null,
   "metadata": {},
   "outputs": [],
   "source": [
    "tica = tica_estimator.fit(torsions_data).fetch_model()\n",
    "tica_output = [tica.transform(x) for x in torsions_data]\n",
    "\n",
    "fig, axes = plt.subplots(1, 2, figsize=(10, 4))\n",
    "pyemma.plots.plot_feature_histograms(\n",
    "    np.concatenate(tica_output),\n",
    "    ax=axes[0],\n",
    "    feature_labels=['IC1', 'IC2', 'IC3', 'IC4'],\n",
    "    ylog=True)\n",
    "pyemma.plots.plot_density(*np.concatenate(tica_output)[:, :2].T, ax=axes[1], logscale=True)\n",
    "axes[1].set_xlabel('IC 1')\n",
    "axes[1].set_ylabel('IC 2')\n",
    "fig.tight_layout()"
   ]
  },
  {
   "cell_type": "markdown",
   "metadata": {},
   "source": [
    "Discretise with 75 $k$-means centers and a stride of 10:"
   ]
  },
  {
   "cell_type": "code",
   "execution_count": null,
   "metadata": {},
   "outputs": [],
   "source": [
    "cluster = dt.clustering.KMeans(75, max_iter=50, fixed_seed=1)\n",
    "cluster = cluster.fit(np.concatenate(tica_output)).fetch_model()\n",
    "dtrajs = [cluster.transform(x) for x in tica_output]\n",
    "\n",
    "fig, ax = plt.subplots(figsize=(4, 4))\n",
    "pyemma.plots.plot_free_energy(\n",
    "    *np.concatenate(tica_output)[:, :2].T, ax=ax, cbar=False, legacy=False)\n",
    "ax.scatter(*cluster.cluster_centers[:, :2].T, s=15, c='k')\n",
    "ax.set_xlabel('IC 1')\n",
    "ax.set_ylabel('IC 2')\n",
    "fig.tight_layout()"
   ]
  },
  {
   "cell_type": "markdown",
   "metadata": {},
   "source": [
    "Plot the first 10 implied timescales with errorbars up to a lag time of 50 steps (trajectory spacing is $0.1\\frac{\\mathrm{ns}}{\\mathrm{step}}$):"
   ]
  },
  {
   "cell_type": "code",
   "execution_count": null,
   "metadata": {},
   "outputs": [],
   "source": [
    "from timescales import implied_timescales_msm\n",
    "\n",
    "its = implied_timescales_msm(dtrajs, lagtimes=np.arange(1, 51), nits=10)\n",
    "pyemma.plots.plot_implied_timescales(its, units='ns', dt=0.1);"
   ]
  },
  {
   "cell_type": "markdown",
   "metadata": {},
   "source": [
    "Estimate a Bayesian MSM at a lag time of five steps and show a CK test for five metastable states:"
   ]
  },
  {
   "cell_type": "code",
   "execution_count": null,
   "metadata": {},
   "outputs": [],
   "source": [
    "counts = dt.markov.TransitionCountEstimator(5, 'effective').fit(dtrajs).fetch_model().submodel_largest()\n",
    "msm = dt.markov.msm.BayesianMSM().fit(counts)\n",
    "\n",
    "validator = msm.chapman_kolmogorov_validator(5, mlags=6)\n",
    "cktest = validator.fit(dtrajs).fetch_model()\n",
    "pyemma.plots.plot_cktest(cktest, dt=0.1, units='ns');"
   ]
  }
 ],
 "metadata": {
  "kernelspec": {
   "display_name": "Python 3",
   "language": "python",
   "name": "python3"
  },
  "language_info": {
   "codemirror_mode": {
    "name": "ipython",
    "version": 3
   },
   "file_extension": ".py",
   "mimetype": "text/x-python",
   "name": "python",
   "nbconvert_exporter": "python",
   "pygments_lexer": "ipython3",
   "version": "3.8.8"
  },
  "toc": {
   "base_numbering": 1,
   "nav_menu": {},
   "number_sections": true,
   "sideBar": true,
   "skip_h1_title": false,
   "title_cell": "Table of Contents",
   "title_sidebar": "Contents",
   "toc_cell": false,
   "toc_position": {},
   "toc_section_display": true,
   "toc_window_display": false
  }
 },
 "nbformat": 4,
 "nbformat_minor": 2
}
