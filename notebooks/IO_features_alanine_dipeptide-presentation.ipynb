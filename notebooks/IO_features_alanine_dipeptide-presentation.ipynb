{
 "cells": [
  {
   "cell_type": "markdown",
   "metadata": {},
   "source": [
    "# Data I/O, featurization and coordinate transforms in PyEMMA\n",
    "## Loading MD example data from our FTP server\n",
    "Ingredients:\n",
    "- Topology file: PDB\n",
    "- Trajectory data: List of .XTC files"
   ]
  },
  {
   "cell_type": "code",
   "execution_count": null,
   "metadata": {},
   "outputs": [],
   "source": [
    "from mdshare import fetch"
   ]
  },
  {
   "cell_type": "code",
   "execution_count": null,
   "metadata": {},
   "outputs": [],
   "source": [
    "topfile = fetch('alanine-dipeptide-nowater.pdb', working_directory='data')\n",
    "traj_list = [fetch('alanine-dipeptide-%d-250ns-nowater.xtc' % i, working_directory='data') for i in range(3)]"
   ]
  },
  {
   "cell_type": "markdown",
   "metadata": {},
   "source": [
    "The `fetch` function fetches the data from our servers. **Do not use `mdshare` for your own data!**\n",
    "\n",
    "## Import PyEMMA & friends"
   ]
  },
  {
   "cell_type": "code",
   "execution_count": null,
   "metadata": {},
   "outputs": [],
   "source": [
    "import pyemma\n",
    "import numpy as np\n",
    "import matplotlib.pyplot as plt\n",
    "plt.matplotlib.rcParams.update({'font.size': 16})"
   ]
  },
  {
   "cell_type": "markdown",
   "metadata": {},
   "source": [
    "## The featurizer\n",
    "All information for data processing (raw MD -> observable) is stored in a `Featurizer` object."
   ]
  },
  {
   "cell_type": "code",
   "execution_count": null,
   "metadata": {},
   "outputs": [],
   "source": [
    "featurizer = pyemma.coordinates.featurizer(topfile)"
   ]
  },
  {
   "cell_type": "markdown",
   "metadata": {},
   "source": [
    "Features are simply added like this:\n",
    "```python\n",
    "featurizer.add_my_feature()\n",
    "```\n",
    "For example, we will add all heavy atom distances by first selecting heavy atoms"
   ]
  },
  {
   "cell_type": "code",
   "execution_count": null,
   "metadata": {},
   "outputs": [],
   "source": [
    "heavy_atom_indices = featurizer.select_Heavy()\n",
    "heavy_atom_indices"
   ]
  },
  {
   "cell_type": "markdown",
   "metadata": {},
   "source": [
    "... and by adding distances between them:"
   ]
  },
  {
   "cell_type": "code",
   "execution_count": null,
   "metadata": {},
   "outputs": [],
   "source": [
    "featurizer.add_distances(heavy_atom_indices, periodic=False)"
   ]
  },
  {
   "cell_type": "markdown",
   "metadata": {},
   "source": [
    "We can add several different features; to find out which ones have been added, simply use `featurizer.describe()`."
   ]
  },
  {
   "cell_type": "code",
   "execution_count": null,
   "metadata": {
    "scrolled": false
   },
   "outputs": [],
   "source": [
    "featurizer.describe()"
   ]
  },
  {
   "cell_type": "markdown",
   "metadata": {},
   "source": [
    "There are some more handy methods that come with the featurizer:"
   ]
  },
  {
   "cell_type": "code",
   "execution_count": null,
   "metadata": {},
   "outputs": [],
   "source": [
    "featurizer.dimension()"
   ]
  },
  {
   "cell_type": "code",
   "execution_count": null,
   "metadata": {},
   "outputs": [],
   "source": [
    "featurizer.select(\"element C\")"
   ]
  },
  {
   "cell_type": "code",
   "execution_count": null,
   "metadata": {},
   "outputs": [],
   "source": [
    "featurizer.pairs([1, 8, 18])"
   ]
  },
  {
   "cell_type": "markdown",
   "metadata": {},
   "source": [
    "## loading featurized data\n",
    "When dealing with datasets that fit into memory, we preferably load the data directly with\n",
    "#### `load`"
   ]
  },
  {
   "cell_type": "code",
   "execution_count": null,
   "metadata": {},
   "outputs": [],
   "source": [
    "Y = pyemma.coordinates.load(traj_list, featurizer)"
   ]
  },
  {
   "cell_type": "markdown",
   "metadata": {},
   "source": [
    "Alternatively, for high memory demands, the data can be streamed with\n",
    "#### `source`"
   ]
  },
  {
   "cell_type": "code",
   "execution_count": null,
   "metadata": {},
   "outputs": [],
   "source": [
    "source = pyemma.coordinates.source(traj_list, featurizer)"
   ]
  },
  {
   "cell_type": "markdown",
   "metadata": {},
   "source": [
    "The source object has some useful properties. e.g."
   ]
  },
  {
   "cell_type": "code",
   "execution_count": null,
   "metadata": {},
   "outputs": [],
   "source": [
    "source.trajectory_lengths()"
   ]
  },
  {
   "cell_type": "markdown",
   "metadata": {},
   "source": [
    "We go on with the data in our memory, `Y`. Let's do a component-wise histogram plot of the loaded data:"
   ]
  },
  {
   "cell_type": "code",
   "execution_count": null,
   "metadata": {},
   "outputs": [],
   "source": [
    "fig, ax = plt.subplots(figsize=(10, 14))\n",
    "pyemma.plots.plot_feature_histograms(np.concatenate(Y), \n",
    "                                     feature_labels=featurizer, \n",
    "                                     ax=ax)\n",
    "ax.set_xlabel('heavy atom distance')\n",
    "ax.set_title('distance histograms per dimension (normalized)');"
   ]
  },
  {
   "cell_type": "markdown",
   "metadata": {},
   "source": [
    "## Dimension reduction\n",
    "The very high dimensional space can be transformed into a lower dimensional representation of the dynamics e.g. with TICA:"
   ]
  },
  {
   "cell_type": "code",
   "execution_count": null,
   "metadata": {},
   "outputs": [],
   "source": [
    "tica = pyemma.coordinates.tica(Y, lag=10, var_cutoff=0.95)"
   ]
  },
  {
   "cell_type": "markdown",
   "metadata": {},
   "source": [
    "`pyemma.coordinates.tica()` returns a TICA python object. We get the transformed data (`tics`) from it:"
   ]
  },
  {
   "cell_type": "code",
   "execution_count": null,
   "metadata": {},
   "outputs": [],
   "source": [
    "tics = tica.get_output()"
   ]
  },
  {
   "cell_type": "markdown",
   "metadata": {},
   "source": [
    "The TICA object contains useful properties such as the number of dimension that explain `var_cutoff` of the kinetic variance. The output data has the same shape."
   ]
  },
  {
   "cell_type": "code",
   "execution_count": null,
   "metadata": {},
   "outputs": [],
   "source": [
    "tica.dimension()"
   ]
  },
  {
   "cell_type": "markdown",
   "metadata": {},
   "source": [
    "Let's visualize these two dimensions in a 2D histogram:"
   ]
  },
  {
   "cell_type": "code",
   "execution_count": null,
   "metadata": {},
   "outputs": [],
   "source": [
    "pyemma.plots.plot_free_energy(np.concatenate(tics)[:, 0], np.concatenate(tics)[:, 1])\n",
    "plt.xlabel('TIC 1') \n",
    "plt.ylabel('TIC 2');"
   ]
  },
  {
   "cell_type": "markdown",
   "metadata": {},
   "source": [
    "## VAMP-scoring\n",
    "We can use the VAMP-2 score e.g. to assess how many dimensions we should ideally take. We check for"
   ]
  },
  {
   "cell_type": "code",
   "execution_count": null,
   "metadata": {},
   "outputs": [],
   "source": [
    "dims = [1, 2, 3, 5]"
   ]
  },
  {
   "cell_type": "markdown",
   "metadata": {},
   "source": [
    "To avoid overfitting, we perform cross validation:"
   ]
  },
  {
   "cell_type": "code",
   "execution_count": null,
   "metadata": {},
   "outputs": [],
   "source": [
    "def score_cv(data, dim):\n",
    "    \"\"\"Compute a cross-validated VAMP2 score.\n",
    "    \"\"\"\n",
    "    # we temporarily suppress very short-lived progress bars\n",
    "    from pyemma.util.contexts import settings\n",
    "    with settings(show_progress_bars=False):\n",
    "        \n",
    "        scores = np.zeros(3)\n",
    "        \n",
    "        for n in range(3):\n",
    "            vamp = pyemma.coordinates.vamp(\n",
    "                [d for i, d in enumerate(data) if i != n], \n",
    "                lag=tica.lag, \n",
    "                dim=dim)\n",
    "            \n",
    "            scores[n] = vamp.score(data[n])\n",
    "    return scores"
   ]
  },
  {
   "cell_type": "code",
   "execution_count": null,
   "metadata": {},
   "outputs": [],
   "source": [
    "fig, ax = plt.subplots(1, 1, figsize=(12, 3), sharey=True)\n",
    "\n",
    "scores = []\n",
    "errors = []\n",
    "\n",
    "for dim in dims:\n",
    "    torsions_scores = score_cv(Y, dim=dim)\n",
    "    scores.append(torsions_scores.mean())\n",
    "    errors.append(torsions_scores.std())\n",
    "\n",
    "ax.bar([str(d) for d in dims], scores, yerr=errors)\n",
    "\n",
    "ax.set_ylabel('VAMP2 score\\n @ {} ps'.format(tica.lag))\n",
    "ax.set_xlabel('# dimensions')"
   ]
  },
  {
   "cell_type": "markdown",
   "metadata": {},
   "source": [
    "We note that the VAMP-2 score is converged at 2 dimensions.\n",
    "\n",
    "## Discretization / clustering\n",
    "There are different ways of clustering the data, we use $k$-means here."
   ]
  },
  {
   "cell_type": "code",
   "execution_count": null,
   "metadata": {},
   "outputs": [],
   "source": [
    "clustering = pyemma.coordinates.cluster_kmeans(tics, \n",
    "                                               k=75,\n",
    "                                               stride=50,  # very large stride for presentation purposes only\n",
    "                                               max_iter=30)"
   ]
  },
  {
   "cell_type": "markdown",
   "metadata": {},
   "source": [
    "As before, the clustering routine returns an object with several useful properties and methods. For example, let us visualize the cluster centers stored in `clustering.clustercenters`:"
   ]
  },
  {
   "cell_type": "code",
   "execution_count": null,
   "metadata": {
    "scrolled": false
   },
   "outputs": [],
   "source": [
    "fig, ax = plt.subplots()\n",
    "ax.plot(*clustering.clustercenters.T, 'ko')\n",
    "pyemma.plots.plot_free_energy(*np.concatenate(tics).T, ax=ax)\n",
    "ax.set_xlabel('$\\Phi$ / rad') \n",
    "ax.set_ylabel('$\\Psi$ / rad');"
   ]
  },
  {
   "cell_type": "markdown",
   "metadata": {},
   "source": [
    "Most importantly, the clustering object contains the discrete trajectories that we need for later MSM estimation. Each frame in each trajectory gets assigned to one of the cluster centers here."
   ]
  },
  {
   "cell_type": "code",
   "execution_count": null,
   "metadata": {},
   "outputs": [],
   "source": [
    "dtrajs = clustering.dtrajs"
   ]
  },
  {
   "cell_type": "code",
   "execution_count": null,
   "metadata": {},
   "outputs": [],
   "source": [
    "fig, ax = plt.subplots(2, 1, figsize=(15, 8), sharex=True)\n",
    "b, e = 20400, 21100\n",
    "ax[0].plot(tics[0][b:e, 0], alpha=.75, label='$\\Phi$')\n",
    "ax[0].plot(tics[0][b:e, 1], alpha=.75, label='$\\Psi$')\n",
    "ax[0].set_ylabel('backbone torsion angles')\n",
    "ax[0].legend()\n",
    "ax[1].step(range(dtrajs[0][b:e].shape[0]), dtrajs[0][b:e])\n",
    "ax[1].set_xlabel('time (steps)')\n",
    "ax[1].set_ylabel('state')\n",
    "fig.tight_layout()"
   ]
  },
  {
   "cell_type": "code",
   "execution_count": null,
   "metadata": {},
   "outputs": [],
   "source": [
    "print(dtrajs[0][:25])"
   ]
  }
 ],
 "metadata": {
  "kernelspec": {
   "display_name": "Python 3",
   "language": "python",
   "name": "python3"
  },
  "language_info": {
   "codemirror_mode": {
    "name": "ipython",
    "version": 3
   },
   "file_extension": ".py",
   "mimetype": "text/x-python",
   "name": "python",
   "nbconvert_exporter": "python",
   "pygments_lexer": "ipython3",
   "version": "3.7.2"
  }
 },
 "nbformat": 4,
 "nbformat_minor": 2
}
