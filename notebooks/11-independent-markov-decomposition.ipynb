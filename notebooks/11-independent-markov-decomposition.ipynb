{
 "cells": [
  {
   "cell_type": "markdown",
   "metadata": {},
   "source": [
    "# Independent Markov decomposition\n",
    "\n",
    "In this notebook, we will explain how to split a global system into weakly coupled subsystems with independent Markov decomposition (IMD) [<a id=\"ref-1\" href=\"#cite-imd\">1</a>,<a id=\"ref-2\" href=\"#cite-syt\">2</a>]. Using a test system, we will show how to find an optimal partition into Markov-independent subsystems and how to model them independently.\n",
    "\n",
    "\n",
    "\n",
    "**Remember**:\n",
    "- to run the currently highlighted cell, hold <kbd>&#x21E7; Shift</kbd> and press <kbd>&#x23ce; Enter</kbd>;\n",
    "- to get help for a specific function, place the cursor within the function's brackets, hold <kbd>&#x21E7; Shift</kbd>, and press <kbd>&#x21E5; Tab</kbd>;\n",
    "- you can find the full documentation at [PyEMMA.org](http://www.pyemma.org)."
   ]
  },
  {
   "cell_type": "code",
   "execution_count": null,
   "metadata": {},
   "outputs": [],
   "source": [
    "import numpy as np\n",
    "from tqdm.notebook import tqdm\n",
    "from matplotlib import pyplot as plt\n",
    "\n",
    "import itertools\n",
    "import networkx as nx\n",
    "\n",
    "import mdshare\n",
    "from deeptime.markov.msm import MaximumLikelihoodMSM, MarkovStateModel"
   ]
  },
  {
   "cell_type": "markdown",
   "metadata": {},
   "source": [
    "## state mapping\n",
    "We first have to look into different representations of a global system state. Imagine a system that consists of 2 subsystems, that each can exist in 3 states. On the one hand, we can write the system's state as a tuple, e.g. `(0, 2)` for the first sub-system being in state `0` and the second one in state `2`. On the other hand, we can also write the tuple as an integer, much like compressing the information into a single number. For the example system, the table of all possible states would be like this:\n",
    "\n",
    "|  |  | | | | | | | | | \n",
    "| ---- | ---- | ---- | ---- |  ---- | ---- |  ---- | ---- |  ---- | ---- |\n",
    "| **state integer** | 0 | 1 | 2 | 3 | 4 | 5 | 6 | 7 | 8  |\n",
    "| **state tuple** | (0, 0) | (0, 1) | (0, 2) | (1, 0) | (1, 1) | (1, 2) | (2, 0) | (2, 1) | (2, 2)  |\n",
    "\n",
    "Of course, mapping between these two representations can be generalized to arbitrary numbers of sub-systems with arbitrary states numbers.\n",
    "The notion here is that the **integer** describes the global system's state, whereas the **tuple** encodes each local system's state individually.\n",
    "\n",
    "In practise, system states can be converted between the tuple (local states) and integer (global state) using numpy. We only have to provide a corresponding *shape* for the system, `(3, 3)` in our case. Here's our example:"
   ]
  },
  {
   "cell_type": "code",
   "execution_count": null,
   "metadata": {},
   "outputs": [],
   "source": [
    "n_systems = 2  # number of local systems (tuple length)\n",
    "n_states = 3  # number of states per local system\n",
    "integer_trajectory = np.arange(9)  # global states (cf. first line of above table)\n",
    "# this could be a time series!\n",
    "\n",
    "shape = tuple((n_states for _ in range(n_systems)))\n",
    "print('shape for unravaling: ', shape)\n",
    "\n",
    "tuple_trajectory = np.vstack(\n",
    "                     np.unravel_index(integer_trajectory, shape)\n",
    ")\n",
    "print('unraveled states:')\n",
    "print(tuple_trajectory)"
   ]
  },
  {
   "cell_type": "markdown",
   "metadata": {},
   "source": [
    "We see that numpy has converted our `integer_trajectory` into two separate trajectories, each representing the state of a local agent."
   ]
  },
  {
   "cell_type": "code",
   "execution_count": null,
   "metadata": {},
   "outputs": [],
   "source": [
    "print('int \\t tuple')\n",
    "for t in range(9):\n",
    "    int_state = integer_trajectory[t]\n",
    "    subsys0_state = tuple_trajectory[0][t]\n",
    "    subsys1_state = tuple_trajectory[1][t]\n",
    "    print(f'{int_state} \\t ({subsys0_state}, {subsys1_state})')"
   ]
  },
  {
   "cell_type": "markdown",
   "metadata": {},
   "source": [
    "Looks familiar?\n",
    "\n",
    "**Task:**\n",
    "Please do the inverse operation: Map back from the tuple trajectories into the space of full system integers. There is a numpy function for this task."
   ]
  },
  {
   "cell_type": "code",
   "execution_count": null,
   "metadata": {
    "solution2": "hidden",
    "solution2_first": true
   },
   "outputs": [],
   "source": [
    "remapped_int_traj = #FIXME\n",
    "\n",
    "np.all(integer_trajectory == remapped_int_traj)"
   ]
  },
  {
   "cell_type": "code",
   "execution_count": null,
   "metadata": {
    "solution2": "hidden"
   },
   "outputs": [],
   "source": [
    "# solution\n",
    "remapped_int_traj = np.ravel_multi_index(tuple_trajectory, \n",
    "                                         tuple((n_states for _ in range(n_systems))))\n",
    "\n",
    "np.all(integer_trajectory == remapped_int_traj)"
   ]
  },
  {
   "cell_type": "markdown",
   "metadata": {},
   "source": [
    "## A system of unkown structure\n",
    "\n",
    "You are now given discrete data for a system of unknown structure. The task is a) to identify weakly coupled sub-systems and b) to approximate such a subsystem using an independent MSM.\n",
    "\n",
    "**Hint:** The system consists of ten 2-state subsystems, i.e., has a total of $2^{10}=1024$ states. Some of the subsystems are strongly coupled, others have weak couplings only.\n",
    "\n",
    "**Task:** Please define the number of subsystems and the number of subsystem states"
   ]
  },
  {
   "cell_type": "code",
   "execution_count": null,
   "metadata": {
    "solution2": "hidden",
    "solution2_first": true
   },
   "outputs": [],
   "source": [
    "n_systems = #FIXME\n",
    "n_states = #FIXME"
   ]
  },
  {
   "cell_type": "code",
   "execution_count": null,
   "metadata": {
    "solution2": "hidden"
   },
   "outputs": [],
   "source": [
    "# solution\n",
    "n_systems = 10  # number of local systems\n",
    "n_states = 2  # number of states per local system"
   ]
  },
  {
   "cell_type": "markdown",
   "metadata": {},
   "source": [
    "### Data\n",
    "First, we load the data. The trajectories were obtained by first defining a *global* transition matrix. Subsequently, a Markov chain sampler was used to create a time series from that matrix (saved every 20 steps). The *global* transition matrix uses (global) state integers to enumerate its states, therefore the trajectory that is loaded uses them as well. "
   ]
  },
  {
   "cell_type": "code",
   "execution_count": null,
   "metadata": {},
   "outputs": [],
   "source": [
    "file = mdshare.fetch('imd_full_system_trajectory.npy', working_directory='data')\n",
    "full_sys_traj = np.load(file)"
   ]
  },
  {
   "cell_type": "markdown",
   "metadata": {},
   "source": [
    "In order to check *dependencies* between subsystems, we first need to retrieve the subsystem time series.\n",
    "\n",
    "**Task:** Compute the individual subsystem state trajectories as done above."
   ]
  },
  {
   "cell_type": "code",
   "execution_count": null,
   "metadata": {
    "solution2": "hidden",
    "solution2_first": true
   },
   "outputs": [],
   "source": [
    "subsys_trajs = # FIXME"
   ]
  },
  {
   "cell_type": "code",
   "execution_count": null,
   "metadata": {
    "solution2": "hidden"
   },
   "outputs": [],
   "source": [
    "# solution\n",
    "subsys_trajs = np.vstack(\n",
    "    np.unravel_index(full_sys_traj, tuple((n_states for _ in range(n_systems))))\n",
    ")"
   ]
  },
  {
   "cell_type": "markdown",
   "metadata": {},
   "source": [
    "### Define dependency score\n",
    "We now define the *dependency* score:"
   ]
  },
  {
   "cell_type": "code",
   "execution_count": null,
   "metadata": {},
   "outputs": [],
   "source": [
    "def compute_dependency(tmat12, tmat1, tmat2, score='frobenius'):\n",
    "    \"\"\"\n",
    "    compute dependency score between two systems\n",
    "    :param tmat12: np.ndarray, transition matrix in joint space\n",
    "    :param tmat1: np.ndarray, transition matrix in subsystem 1\n",
    "    :param tmat2: np.ndarray, transition matrix in subsystem 2\n",
    "    :param score: str, optional, matrix norm. one of frobenius, tracenorm.\n",
    "    :return: float, dependency score\n",
    "    \"\"\"\n",
    "    if score == 'frobenius':\n",
    "        d = np.linalg.norm(tmat12, ord='fro')**2 - \\\n",
    "                    np.linalg.norm(tmat1, ord='fro')**2 * np.linalg.norm(tmat2, ord='fro')**2\n",
    "    elif score == 'tracenorm':\n",
    "        d = np.linalg.norm(tmat12, ord='nuc') - \\\n",
    "                    np.linalg.norm(tmat1, ord='nuc') * np.linalg.norm(tmat2, ord='nuc')\n",
    "    else:\n",
    "        raise NotImplementedError('score must be one of frobenius, tracenorm.')\n",
    "        \n",
    "    return abs(d)\n"
   ]
  },
  {
   "cell_type": "markdown",
   "metadata": {},
   "source": [
    "To compute the score on a pair of subsystems, we need to evaluate \n",
    "- the transition matrix of subsystem 1\n",
    "\n",
    "- the transition matrix of subsystem 2\n",
    "\n",
    "- the transition matrix in the joint space\n",
    "\n",
    "Let's start with the single sub-systems."
   ]
  },
  {
   "cell_type": "code",
   "execution_count": null,
   "metadata": {},
   "outputs": [],
   "source": [
    "# we will store the results in numpy arrays.\n",
    "single_tmats = np.empty((n_systems, n_states, n_states))"
   ]
  },
  {
   "cell_type": "markdown",
   "metadata": {},
   "source": [
    "**Task:** Compute each system's transition matrix and store it in the above array"
   ]
  },
  {
   "cell_type": "code",
   "execution_count": null,
   "metadata": {
    "solution2": "hidden",
    "solution2_first": true
   },
   "outputs": [],
   "source": [
    "for n in range(n_systems):\n",
    "    single_tmats[n] = #FIXME"
   ]
  },
  {
   "cell_type": "code",
   "execution_count": null,
   "metadata": {
    "solution2": "hidden"
   },
   "outputs": [],
   "source": [
    "# solution:\n",
    "for n in range(n_systems):\n",
    "    msm = MaximumLikelihoodMSM(lagtime=1).fit_fetch(subsys_trajs[n])\n",
    "    single_tmats[n] = msm.transition_matrix"
   ]
  },
  {
   "cell_type": "markdown",
   "metadata": {},
   "source": [
    "We will now compute all pairs of systems or joint transition matrices. "
   ]
  },
  {
   "cell_type": "code",
   "execution_count": null,
   "metadata": {},
   "outputs": [],
   "source": [
    "joint_tmats = np.empty((n_systems, n_systems, 2**n_states, 2**n_states))"
   ]
  },
  {
   "cell_type": "code",
   "execution_count": null,
   "metadata": {
    "scrolled": true
   },
   "outputs": [],
   "source": [
    "# compute pairwise transition matrices\n",
    "for n1, n2 in itertools.combinations(range(n_systems), 2):\n",
    "    dtraj_system1 = subsys_trajs[n1]\n",
    "    dtraj_system2 = subsys_trajs[n2]\n",
    "    \n",
    "    # combine both system states into a global number\n",
    "    # note that the number of systems in the *pair* is 2.\n",
    "    combined_dtraj = np.ravel_multi_index((dtraj_system1, dtraj_system2), \n",
    "                                         tuple((n_states for _ in range(2))))\n",
    "    \n",
    "    msm = MaximumLikelihoodMSM(lagtime=1).fit_fetch(combined_dtraj)\n",
    "    joint_tmats[n1, n2] = msm.transition_matrix"
   ]
  },
  {
   "cell_type": "markdown",
   "metadata": {},
   "source": [
    "### graph analysis\n",
    "We now compute dependencies for all pairs of systems and store them in a `networkx` graph. \n",
    "\n",
    "**Task**: Compute the dependency for all edges using the above defined function."
   ]
  },
  {
   "cell_type": "code",
   "execution_count": null,
   "metadata": {
    "solution2": "hidden",
    "solution2_first": true
   },
   "outputs": [],
   "source": [
    "# compute different scores and store in a networkx graph object\n",
    "graph_fronorm = nx.Graph()\n",
    "graph_trace = nx.Graph()\n",
    "\n",
    "# for all pairs of subsystems, compute dependency scores with Frobenius and trace norm\n",
    "for n1, n2 in itertools.combinations(range(n_systems), 2):\n",
    "    # compute with trace norm\n",
    "    d = # FIXME\n",
    "    graph_trace.add_edge(n1, n2, weight=d)\n",
    "    \n",
    "    # compute with frobenius norm\n",
    "    d = #FIXME\n",
    "    graph_fronorm.add_edge(n1, n2, weight=d)"
   ]
  },
  {
   "cell_type": "code",
   "execution_count": null,
   "metadata": {
    "solution2": "hidden"
   },
   "outputs": [],
   "source": [
    "# solution\n",
    "\n",
    "# compute different scores and store in a networkx graph object\n",
    "graph_fronorm = nx.Graph()\n",
    "graph_trace = nx.Graph()\n",
    "\n",
    "# for all pairs of subsystems, compute dependency scores with Frobenius and trace norm\n",
    "for n1, n2 in itertools.combinations(range(n_systems), 2):\n",
    "    d = compute_dependency(joint_tmats[n1, n2], \n",
    "                           single_tmats[n1], \n",
    "                           single_tmats[n2], \n",
    "                           score='tracenorm')\n",
    "    graph_trace.add_edge(n1, n2, weight=d)\n",
    "    \n",
    "\n",
    "    d = compute_dependency(joint_tmats[n1, n2], \n",
    "                           single_tmats[n1], \n",
    "                           single_tmats[n2], \n",
    "                           score='frobenius')\n",
    "    graph_fronorm.add_edge(n1, n2, weight=d)"
   ]
  },
  {
   "cell_type": "markdown",
   "metadata": {},
   "source": [
    "### Draw the graph\n",
    "We now have an edge-weight graph, i.e., a network of subsystems (nodes) that are connected by their *dependency* (edges). We can use that graph to identify clusters of strongly coupled subsystems."
   ]
  },
  {
   "cell_type": "code",
   "execution_count": null,
   "metadata": {},
   "outputs": [],
   "source": [
    "# some plot properties\n",
    "_c = (0., 0., 0.)\n",
    "nodesize = 35\n",
    "edge_cmap = plt.matplotlib.colors.LinearSegmentedColormap.from_list(\"uwe\", [(*_c, 0.025), (*_c, 1)])\n",
    "font = plt.matplotlib.font_manager.FontProperties(size=12)"
   ]
  },
  {
   "cell_type": "code",
   "execution_count": null,
   "metadata": {},
   "outputs": [],
   "source": [
    "fig, axes = plt.subplots(1, 2, figsize=(7.5, 3), gridspec_kw={'hspace':.25})\n",
    "names = ['trace norm', 'frobenius norm']\n",
    "for n_graph, graph in enumerate([graph_trace, graph_fronorm]):\n",
    "    \n",
    "    ax = axes[n_graph]\n",
    "    # positions by Fruchterman-Reingold\n",
    "    pos_dict = nx.spring_layout(graph, k=0.75 if n_graph == 0 else 0.4)\n",
    "    ax.set_title(names[n_graph])\n",
    "\n",
    "    weights = np.array(list(nx.get_edge_attributes(graph, 'weight').values()))\n",
    "    \n",
    "    # draw nodes\n",
    "    nx.draw_networkx_nodes(graph, node_shape='s',\n",
    "                           node_size=nodesize, \n",
    "                           pos=pos_dict,\n",
    "                          ax=ax)\n",
    "    nx.draw_networkx_labels(graph, pos=pos_dict, ax=ax, \n",
    "                            font_color='red', font_weight='bold', font_size=15)\n",
    "    # draw all edges\n",
    "    pc = nx.draw_networkx_edges(graph, edge_cmap=edge_cmap,\n",
    "                     edge_color=weights, width=2.4,\n",
    "                     pos=pos_dict, node_size=nodesize,\n",
    "                     ax=ax,\n",
    "                    )\n",
    "    \n",
    "    # define colormap\n",
    "    pc.set_array(weights)\n",
    "    pc.set_cmap(edge_cmap)\n",
    "\n",
    "    cb = fig.colorbar(pc, ax=ax,\n",
    "                      aspect=25, pad=.15)\n",
    "    cb.set_label(r'$d$')\n",
    "    cbarticks = cb.ax.yaxis.get_ticklabels()\n",
    "    \n",
    "    # set font properties\n",
    "    for _t in list(cbarticks):\n",
    "        _t.set_font_properties(font)\n",
    "    ax.axis('off');"
   ]
  },
  {
   "cell_type": "markdown",
   "metadata": {},
   "source": [
    "### Interpretation:\n",
    "You should see a grouping of your nodes into 2 strongly coupled clusters. Within these clusters, the *dependency* is large - it is low between different clusters. The node node numbers tell you which of them belong to a certain cluster. They can be used to extract the given systems for individual modeling. "
   ]
  },
  {
   "cell_type": "markdown",
   "metadata": {},
   "source": [
    "## Modeling a single cluster independently\n",
    "\n",
    "Now that we have found an optimal partition, we can retrieve the model of one of the clusters, ignoring weak coupling between them. (Note that one would probably like to model both parts independently, for the sake of time we only look at one here - in this particular example, they are the same anyways.)\n",
    "\n",
    "**Task:** Please choose a set of subsystems to be modeled independently of the rest."
   ]
  },
  {
   "cell_type": "code",
   "execution_count": null,
   "metadata": {
    "solution2": "hidden",
    "solution2_first": true
   },
   "outputs": [],
   "source": [
    "system_nodes = #FIXME"
   ]
  },
  {
   "cell_type": "code",
   "execution_count": null,
   "metadata": {
    "solution2": "hidden"
   },
   "outputs": [],
   "source": [
    "# solution\n",
    "system_nodes = [0, 2, 3, 4, 5] # or [1, 6, 7, 8, 9]"
   ]
  },
  {
   "cell_type": "markdown",
   "metadata": {},
   "source": [
    "Now, the trajectories of these subsystems are extracted from the data. It will is re-written to an integer that describes the full state of that set of subsystems."
   ]
  },
  {
   "cell_type": "code",
   "execution_count": null,
   "metadata": {},
   "outputs": [],
   "source": [
    "# subsystem indexing ordered to match resulting matrices\n",
    "subsystem_trajectory = np.ravel_multi_index(\n",
    "        np.array(subsys_trajs)[system_nodes], \n",
    "        tuple((n_states for _ in range(len(system_nodes))))\n",
    ")"
   ]
  },
  {
   "cell_type": "markdown",
   "metadata": {},
   "source": [
    "**Task:** Fit a maximum likelihood MSM to the subsystem-cluster trajectory; use a lag time of 1 steps."
   ]
  },
  {
   "cell_type": "code",
   "execution_count": null,
   "metadata": {
    "solution2": "hidden",
    "solution2_first": true
   },
   "outputs": [],
   "source": [
    "msm = # FIXME"
   ]
  },
  {
   "cell_type": "code",
   "execution_count": null,
   "metadata": {
    "solution2": "hidden"
   },
   "outputs": [],
   "source": [
    "msm = MaximumLikelihoodMSM(lagtime=1).fit_fetch(subsystem_trajectory)"
   ]
  },
  {
   "cell_type": "markdown",
   "metadata": {},
   "source": [
    "Note that this transition matrix effectively models a lagtime of 20 because the trajectory was generated with that lag time.\n",
    "\n",
    "### compare transition matrices & implied timescales"
   ]
  },
  {
   "cell_type": "code",
   "execution_count": null,
   "metadata": {},
   "outputs": [],
   "source": [
    "# reference transition matrix (does not include weak couplings between the two clusters!)\n",
    "channel_tmat = np.load(mdshare.fetch('imd_channel_transitionmatrix.npy', working_directory='data'))\n",
    "dt = 20  # time step used for generating the data\n",
    "\n",
    "# adjust lag time of generating matrix\n",
    "ref_msm = MarkovStateModel(np.linalg.matrix_power(channel_tmat, dt))"
   ]
  },
  {
   "cell_type": "code",
   "execution_count": null,
   "metadata": {},
   "outputs": [],
   "source": [
    "fig, ax = plt.subplots(1, 2)\n",
    "ax[0].imshow(msm.transition_matrix, norm=plt.matplotlib.colors.LogNorm())\n",
    "ax[0].set_title('estimated')\n",
    "ax[1].imshow(ref_msm.transition_matrix, norm=plt.matplotlib.colors.LogNorm())\n",
    "ax[1].set_title('reference');"
   ]
  },
  {
   "cell_type": "markdown",
   "metadata": {},
   "source": [
    "The transition matrices look very similar, however few pixels are empty (white) due to the fact that even with 1,000,000 steps, not all states of the chosen set of subsystems were sampled."
   ]
  },
  {
   "cell_type": "code",
   "execution_count": null,
   "metadata": {},
   "outputs": [],
   "source": [
    "fig, ax = plt.subplots(1, 2, figsize=(8, 4))\n",
    "\n",
    "ax[0].plot(msm.transition_matrix.flat, ref_msm.transition_matrix.flat, '.')\n",
    "ax[0].loglog()\n",
    "\n",
    "its_ref = ref_msm.timescales()\n",
    "its_est = msm.timescales()\n",
    "\n",
    "ax[1].plot(its_ref, 'r.', label='reference')\n",
    "ax[1].plot(its_est, 'b.', label='estimate')\n",
    "ax[1].semilogy()\n",
    "fig.legend()"
   ]
  },
  {
   "cell_type": "markdown",
   "metadata": {},
   "source": [
    "The spectrum is well-approximated. As this model does not incoporate the weak coupling between the two large node clusters, it is only an approximation."
   ]
  },
  {
   "cell_type": "markdown",
   "metadata": {},
   "source": [
    "## References:\n",
    "\n",
    "<a id=\"cite-imd\"/><sup><a href=#ref-1>[1]</a></sup> Hempel, T.; del Razo, M. J.; Lee, C. T.; Taylor, B. C.; Amaro, R. E.; Noé, F. _Independent Markov Decomposition: Toward Modeling Kinetics of Biomolecular Complexes._ Proc Natl Acad Sci USA 2021, 118 (31), e2105230118. https://doi.org/10.1073/pnas.2105230118.\n",
    ".\n",
    "\n",
    "<a id=\"cite-syt\"/><sup><a href=#ref-2>[2]</a></sup> Hempel, T.; Plattner, N.; Noé, F. _Coupling of Conformational Switches in Calcium Sensor Unraveled with Local Markov Models and Transfer Entropy._ J. Chem. Theory Comput. 2020, 16 (4), 2584–2593. https://doi.org/10.1021/acs.jctc.0c00043.\n"
   ]
  }
 ],
 "metadata": {
  "celltoolbar": "Edit Metadata",
  "kernelspec": {
   "display_name": "Python 3 (ipykernel)",
   "language": "python",
   "name": "python3"
  },
  "language_info": {
   "codemirror_mode": {
    "name": "ipython",
    "version": 3
   },
   "file_extension": ".py",
   "mimetype": "text/x-python",
   "name": "python",
   "nbconvert_exporter": "python",
   "pygments_lexer": "ipython3",
   "version": "3.9.10"
  },
  "toc": {
   "base_numbering": 1,
   "nav_menu": {},
   "number_sections": true,
   "sideBar": true,
   "skip_h1_title": false,
   "title_cell": "Table of Contents",
   "title_sidebar": "Contents",
   "toc_cell": false,
   "toc_position": {},
   "toc_section_display": true,
   "toc_window_display": false
  }
 },
 "nbformat": 4,
 "nbformat_minor": 2
}
